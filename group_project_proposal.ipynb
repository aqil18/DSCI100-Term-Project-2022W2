{
 "cells": [
  {
   "cell_type": "markdown",
   "id": "4f504dde-b61d-4843-a31e-436aa6624944",
   "metadata": {},
   "source": [
    "# Using a K-nearest Neighbours Classifier To Detect Bank Account Opening Fraud\n",
    "### 2022W2 DSCI 100 Group Project Report\n",
    "\n",
    "Team Members:\n",
    "- Aqil Faizal\n",
    "- Andrei Chepakovich\n",
    "- Jiaying Ong\n",
    "- Lucy Liu"
   ]
  },
  {
   "cell_type": "markdown",
   "id": "e5564b46",
   "metadata": {
    "jp-MarkdownHeadingCollapsed": true,
    "tags": []
   },
   "source": [
    "## Introduction\n",
    "Fraud is a major problem in Canada, with a total of $531M being lost to fraud in 2022 according to the Canadian Anti-Fraud Centre. Although overall rates of digital financial fraud in Canada have fallen in recent years, identity theft rates have been on the rise. According to Statista, an online platform for consumer data, identity fraud rates in Canada has consistently grown from 2008 to 2021 and sat at 61.95 per 100,000 residents in the latter year. Identity thieves commonly involve stealing personal information to create new bank accounts and performing fraudulent activities such as credit card fraud, fraudulent loan applications, and money laundering. This act is known as account opening fraud, and will be the focus of this group project.\n",
    "\n",
    "In this project, we aim to use the R tidymodels framework to build a K-nearest neighbours classifier that can classify a bank account as fraudulent or non-fraudulent. The data being used is from the Bank Account Fraud suite of datasets published at NeurIPS 2022, a machine learning conference. This synthetic dataset is based on real-world bank account data. The main questions that we would like to answer in this project are: \n",
    "\n",
    "1) Given this data, can we use the K-nearest neighbours algorithm to classify a bank account as fraudulent or non-fraudulent with reasonable accuracy, and \n",
    "\n",
    "2) Which variables are good indicators of account opening fraud?\n",
    "\n",
    "## Description of the dataset\n",
    "We used the Base.csv dataset from the aforementioned Bank Account Fraud suite, which has 32 variables and 1M observations. As the K-nearest neighbours algorithm becomes computationally costly with a large number of observations, we first **randomly sampled 100,000 rows of data** and then filtered this subset further to obtain only observations with certain attributes.\n",
    "\n",
    "We also plan to use the forward selection algorithm to select the predictor variables to be used by the KNN model. Since using many variables for forward selection involves the training of many models and increases the chance that we come across a model with a high cross-validation accuracy estimate, but a low true accuracy on the test data, we **first examined 6 variables** that we felt were most likely to be the indicators of fraudulence."
   ]
  },
  {
   "cell_type": "markdown",
   "id": "21d2d7ee",
   "metadata": {
    "tags": []
   },
   "source": [
    "## Methods"
   ]
  },
  {
   "cell_type": "markdown",
   "id": "1cbeab18",
   "metadata": {},
   "source": [
    "### 1. Loading required libraries and data from the web:"
   ]
  },
  {
   "cell_type": "markdown",
   "id": "508adefc",
   "metadata": {},
   "source": [
    "The required libraries for running the code in this report are:\n",
    "\n",
    "- tidyverse\n",
    "- repr\n",
    "- tidymodels\n",
    "- themis\n",
    "- kknn\n",
    "- cowplot"
   ]
  },
  {
   "cell_type": "code",
   "execution_count": 1,
   "id": "01fa98a0",
   "metadata": {
    "vscode": {
     "languageId": "r"
    }
   },
   "outputs": [
    {
     "name": "stderr",
     "output_type": "stream",
     "text": [
      "── \u001b[1mAttaching packages\u001b[22m ─────────────────────────────────────── tidyverse 1.3.1 ──\n",
      "\n",
      "\u001b[32m✔\u001b[39m \u001b[34mggplot2\u001b[39m 3.3.6     \u001b[32m✔\u001b[39m \u001b[34mpurrr  \u001b[39m 0.3.4\n",
      "\u001b[32m✔\u001b[39m \u001b[34mtibble \u001b[39m 3.2.1     \u001b[32m✔\u001b[39m \u001b[34mdplyr  \u001b[39m 1.1.1\n",
      "\u001b[32m✔\u001b[39m \u001b[34mtidyr  \u001b[39m 1.2.0     \u001b[32m✔\u001b[39m \u001b[34mstringr\u001b[39m 1.4.0\n",
      "\u001b[32m✔\u001b[39m \u001b[34mreadr  \u001b[39m 2.1.2     \u001b[32m✔\u001b[39m \u001b[34mforcats\u001b[39m 0.5.1\n",
      "\n",
      "── \u001b[1mConflicts\u001b[22m ────────────────────────────────────────── tidyverse_conflicts() ──\n",
      "\u001b[31m✖\u001b[39m \u001b[34mdplyr\u001b[39m::\u001b[32mfilter()\u001b[39m masks \u001b[34mstats\u001b[39m::filter()\n",
      "\u001b[31m✖\u001b[39m \u001b[34mdplyr\u001b[39m::\u001b[32mlag()\u001b[39m    masks \u001b[34mstats\u001b[39m::lag()\n",
      "\n",
      "── \u001b[1mAttaching packages\u001b[22m ────────────────────────────────────── tidymodels 1.0.0 ──\n",
      "\n",
      "\u001b[32m✔\u001b[39m \u001b[34mbroom       \u001b[39m 1.0.0     \u001b[32m✔\u001b[39m \u001b[34mrsample     \u001b[39m 1.0.0\n",
      "\u001b[32m✔\u001b[39m \u001b[34mdials       \u001b[39m 1.0.0     \u001b[32m✔\u001b[39m \u001b[34mtune        \u001b[39m 1.0.0\n",
      "\u001b[32m✔\u001b[39m \u001b[34minfer       \u001b[39m 1.0.2     \u001b[32m✔\u001b[39m \u001b[34mworkflows   \u001b[39m 1.0.0\n",
      "\u001b[32m✔\u001b[39m \u001b[34mmodeldata   \u001b[39m 1.0.0     \u001b[32m✔\u001b[39m \u001b[34mworkflowsets\u001b[39m 1.0.0\n",
      "\u001b[32m✔\u001b[39m \u001b[34mparsnip     \u001b[39m 1.0.0     \u001b[32m✔\u001b[39m \u001b[34myardstick   \u001b[39m 1.0.0\n",
      "\u001b[32m✔\u001b[39m \u001b[34mrecipes     \u001b[39m 1.0.5     \n",
      "\n",
      "── \u001b[1mConflicts\u001b[22m ───────────────────────────────────────── tidymodels_conflicts() ──\n",
      "\u001b[31m✖\u001b[39m \u001b[34mscales\u001b[39m::\u001b[32mdiscard()\u001b[39m masks \u001b[34mpurrr\u001b[39m::discard()\n",
      "\u001b[31m✖\u001b[39m \u001b[34mdplyr\u001b[39m::\u001b[32mfilter()\u001b[39m   masks \u001b[34mstats\u001b[39m::filter()\n",
      "\u001b[31m✖\u001b[39m \u001b[34mrecipes\u001b[39m::\u001b[32mfixed()\u001b[39m  masks \u001b[34mstringr\u001b[39m::fixed()\n",
      "\u001b[31m✖\u001b[39m \u001b[34mdplyr\u001b[39m::\u001b[32mlag()\u001b[39m      masks \u001b[34mstats\u001b[39m::lag()\n",
      "\u001b[31m✖\u001b[39m \u001b[34myardstick\u001b[39m::\u001b[32mspec()\u001b[39m masks \u001b[34mreadr\u001b[39m::spec()\n",
      "\u001b[31m✖\u001b[39m \u001b[34mrecipes\u001b[39m::\u001b[32mstep()\u001b[39m   masks \u001b[34mstats\u001b[39m::step()\n",
      "\u001b[34m•\u001b[39m Dig deeper into tidy modeling with R at \u001b[32mhttps://www.tmwr.org\u001b[39m\n",
      "\n"
     ]
    }
   ],
   "source": [
    "### Setup\n",
    "\n",
    "library(tidyverse)\n",
    "library(repr)\n",
    "library(tidymodels)\n",
    "library(themis)\n",
    "library(kknn)\n",
    "library(cowplot)\n",
    "\n",
    "options(repr.matrix.max.rows = 6)"
   ]
  },
  {
   "cell_type": "markdown",
   "id": "3242a892-3ba0-4854-abf2-316ad8871792",
   "metadata": {},
   "source": [
    " "
   ]
  },
  {
   "cell_type": "markdown",
   "id": "70060eaf",
   "metadata": {},
   "source": [
    "**Since the dataset has 1 million rows, we first downloaded Base.csv locally and randomly sampled 100,000 rows, which we then wrote to a .csv file and hosted on Google Sheets. We then read the data in again from Google Sheets:**"
   ]
  },
  {
   "cell_type": "markdown",
   "id": "55dc1517-96ec-48f2-be72-205698f912e8",
   "metadata": {},
   "source": [
    " "
   ]
  },
  {
   "cell_type": "code",
   "execution_count": 2,
   "id": "0d1c425c",
   "metadata": {
    "tags": [],
    "vscode": {
     "languageId": "r"
    }
   },
   "outputs": [
    {
     "name": "stderr",
     "output_type": "stream",
     "text": [
      "\u001b[1mRows: \u001b[22m\u001b[34m100000\u001b[39m \u001b[1mColumns: \u001b[22m\u001b[34m32\u001b[39m\n",
      "\u001b[36m──\u001b[39m \u001b[1mColumn specification\u001b[22m \u001b[36m────────────────────────────────────────────────────────\u001b[39m\n",
      "\u001b[1mDelimiter:\u001b[22m \",\"\n",
      "\u001b[31mchr\u001b[39m  (5): payment_type, employment_status, housing_status, source, device_os\n",
      "\u001b[32mdbl\u001b[39m (27): fraud_bool, income, name_email_similarity, prev_address_months_cou...\n",
      "\n",
      "\u001b[36mℹ\u001b[39m Use `spec()` to retrieve the full column specification for this data.\n",
      "\u001b[36mℹ\u001b[39m Specify the column types or set `show_col_types = FALSE` to quiet this message.\n"
     ]
    },
    {
     "data": {
      "text/html": [
       "<table class=\"dataframe\">\n",
       "<caption>A tibble: 100000 × 32</caption>\n",
       "<thead>\n",
       "\t<tr><th scope=col>fraud_bool</th><th scope=col>income</th><th scope=col>name_email_similarity</th><th scope=col>prev_address_months_count</th><th scope=col>current_address_months_count</th><th scope=col>customer_age</th><th scope=col>days_since_request</th><th scope=col>intended_balcon_amount</th><th scope=col>payment_type</th><th scope=col>zip_count_4w</th><th scope=col>⋯</th><th scope=col>has_other_cards</th><th scope=col>proposed_credit_limit</th><th scope=col>foreign_request</th><th scope=col>source</th><th scope=col>session_length_in_minutes</th><th scope=col>device_os</th><th scope=col>keep_alive_session</th><th scope=col>device_distinct_emails_8w</th><th scope=col>device_fraud_count</th><th scope=col>month</th></tr>\n",
       "\t<tr><th scope=col>&lt;fct&gt;</th><th scope=col>&lt;dbl&gt;</th><th scope=col>&lt;dbl&gt;</th><th scope=col>&lt;dbl&gt;</th><th scope=col>&lt;dbl&gt;</th><th scope=col>&lt;dbl&gt;</th><th scope=col>&lt;dbl&gt;</th><th scope=col>&lt;dbl&gt;</th><th scope=col>&lt;chr&gt;</th><th scope=col>&lt;dbl&gt;</th><th scope=col>⋯</th><th scope=col>&lt;dbl&gt;</th><th scope=col>&lt;dbl&gt;</th><th scope=col>&lt;dbl&gt;</th><th scope=col>&lt;chr&gt;</th><th scope=col>&lt;dbl&gt;</th><th scope=col>&lt;chr&gt;</th><th scope=col>&lt;dbl&gt;</th><th scope=col>&lt;dbl&gt;</th><th scope=col>&lt;dbl&gt;</th><th scope=col>&lt;dbl&gt;</th></tr>\n",
       "</thead>\n",
       "<tbody>\n",
       "\t<tr><td>1</td><td>0.9</td><td>0.16682773</td><td>-1</td><td> 88</td><td>50</td><td>0.020925173</td><td>-1.3313450</td><td>AA</td><td>769</td><td>⋯</td><td>0</td><td> 500</td><td>0</td><td>INTERNET</td><td> 3.888115</td><td>windows</td><td>0</td><td>1</td><td>0</td><td>7</td></tr>\n",
       "\t<tr><td>1</td><td>0.9</td><td>0.29628601</td><td>-1</td><td>144</td><td>50</td><td>0.005417538</td><td>-0.8162238</td><td>AB</td><td>366</td><td>⋯</td><td>0</td><td>1500</td><td>0</td><td>INTERNET</td><td>31.798819</td><td>windows</td><td>0</td><td>1</td><td>0</td><td>7</td></tr>\n",
       "\t<tr><td>1</td><td>0.9</td><td>0.04498549</td><td>-1</td><td>132</td><td>40</td><td>3.108548793</td><td>-0.7557277</td><td>AC</td><td>870</td><td>⋯</td><td>0</td><td> 200</td><td>0</td><td>INTERNET</td><td> 4.728705</td><td>other  </td><td>0</td><td>1</td><td>0</td><td>7</td></tr>\n",
       "\t<tr><td>⋮</td><td>⋮</td><td>⋮</td><td>⋮</td><td>⋮</td><td>⋮</td><td>⋮</td><td>⋮</td><td>⋮</td><td>⋮</td><td>⋱</td><td>⋮</td><td>⋮</td><td>⋮</td><td>⋮</td><td>⋮</td><td>⋮</td><td>⋮</td><td>⋮</td><td>⋮</td><td>⋮</td></tr>\n",
       "\t<tr><td>0</td><td>0.6</td><td>0.8435506</td><td>-1</td><td>18</td><td>40</td><td>0.01090603</td><td>-0.8543749</td><td>AB</td><td>602</td><td>⋯</td><td>0</td><td>1500</td><td>0</td><td>INTERNET</td><td>5.939641</td><td>other  </td><td>1</td><td>1</td><td>0</td><td>3</td></tr>\n",
       "\t<tr><td>0</td><td>0.4</td><td>0.6882371</td><td>-1</td><td>50</td><td>20</td><td>0.02786849</td><td>50.3059704</td><td>AA</td><td>691</td><td>⋯</td><td>0</td><td> 500</td><td>0</td><td>INTERNET</td><td>3.273092</td><td>linux  </td><td>1</td><td>1</td><td>0</td><td>3</td></tr>\n",
       "\t<tr><td>0</td><td>0.7</td><td>0.7537215</td><td>-1</td><td>50</td><td>30</td><td>0.02482313</td><td>98.5380625</td><td>AA</td><td>878</td><td>⋯</td><td>1</td><td> 500</td><td>0</td><td>INTERNET</td><td>6.452148</td><td>windows</td><td>0</td><td>1</td><td>0</td><td>3</td></tr>\n",
       "</tbody>\n",
       "</table>\n"
      ],
      "text/latex": [
       "A tibble: 100000 × 32\n",
       "\\begin{tabular}{lllllllllllllllllllll}\n",
       " fraud\\_bool & income & name\\_email\\_similarity & prev\\_address\\_months\\_count & current\\_address\\_months\\_count & customer\\_age & days\\_since\\_request & intended\\_balcon\\_amount & payment\\_type & zip\\_count\\_4w & ⋯ & has\\_other\\_cards & proposed\\_credit\\_limit & foreign\\_request & source & session\\_length\\_in\\_minutes & device\\_os & keep\\_alive\\_session & device\\_distinct\\_emails\\_8w & device\\_fraud\\_count & month\\\\\n",
       " <fct> & <dbl> & <dbl> & <dbl> & <dbl> & <dbl> & <dbl> & <dbl> & <chr> & <dbl> & ⋯ & <dbl> & <dbl> & <dbl> & <chr> & <dbl> & <chr> & <dbl> & <dbl> & <dbl> & <dbl>\\\\\n",
       "\\hline\n",
       "\t 1 & 0.9 & 0.16682773 & -1 &  88 & 50 & 0.020925173 & -1.3313450 & AA & 769 & ⋯ & 0 &  500 & 0 & INTERNET &  3.888115 & windows & 0 & 1 & 0 & 7\\\\\n",
       "\t 1 & 0.9 & 0.29628601 & -1 & 144 & 50 & 0.005417538 & -0.8162238 & AB & 366 & ⋯ & 0 & 1500 & 0 & INTERNET & 31.798819 & windows & 0 & 1 & 0 & 7\\\\\n",
       "\t 1 & 0.9 & 0.04498549 & -1 & 132 & 40 & 3.108548793 & -0.7557277 & AC & 870 & ⋯ & 0 &  200 & 0 & INTERNET &  4.728705 & other   & 0 & 1 & 0 & 7\\\\\n",
       "\t ⋮ & ⋮ & ⋮ & ⋮ & ⋮ & ⋮ & ⋮ & ⋮ & ⋮ & ⋮ & ⋱ & ⋮ & ⋮ & ⋮ & ⋮ & ⋮ & ⋮ & ⋮ & ⋮ & ⋮ & ⋮\\\\\n",
       "\t 0 & 0.6 & 0.8435506 & -1 & 18 & 40 & 0.01090603 & -0.8543749 & AB & 602 & ⋯ & 0 & 1500 & 0 & INTERNET & 5.939641 & other   & 1 & 1 & 0 & 3\\\\\n",
       "\t 0 & 0.4 & 0.6882371 & -1 & 50 & 20 & 0.02786849 & 50.3059704 & AA & 691 & ⋯ & 0 &  500 & 0 & INTERNET & 3.273092 & linux   & 1 & 1 & 0 & 3\\\\\n",
       "\t 0 & 0.7 & 0.7537215 & -1 & 50 & 30 & 0.02482313 & 98.5380625 & AA & 878 & ⋯ & 1 &  500 & 0 & INTERNET & 6.452148 & windows & 0 & 1 & 0 & 3\\\\\n",
       "\\end{tabular}\n"
      ],
      "text/markdown": [
       "\n",
       "A tibble: 100000 × 32\n",
       "\n",
       "| fraud_bool &lt;fct&gt; | income &lt;dbl&gt; | name_email_similarity &lt;dbl&gt; | prev_address_months_count &lt;dbl&gt; | current_address_months_count &lt;dbl&gt; | customer_age &lt;dbl&gt; | days_since_request &lt;dbl&gt; | intended_balcon_amount &lt;dbl&gt; | payment_type &lt;chr&gt; | zip_count_4w &lt;dbl&gt; | ⋯ ⋯ | has_other_cards &lt;dbl&gt; | proposed_credit_limit &lt;dbl&gt; | foreign_request &lt;dbl&gt; | source &lt;chr&gt; | session_length_in_minutes &lt;dbl&gt; | device_os &lt;chr&gt; | keep_alive_session &lt;dbl&gt; | device_distinct_emails_8w &lt;dbl&gt; | device_fraud_count &lt;dbl&gt; | month &lt;dbl&gt; |\n",
       "|---|---|---|---|---|---|---|---|---|---|---|---|---|---|---|---|---|---|---|---|---|\n",
       "| 1 | 0.9 | 0.16682773 | -1 |  88 | 50 | 0.020925173 | -1.3313450 | AA | 769 | ⋯ | 0 |  500 | 0 | INTERNET |  3.888115 | windows | 0 | 1 | 0 | 7 |\n",
       "| 1 | 0.9 | 0.29628601 | -1 | 144 | 50 | 0.005417538 | -0.8162238 | AB | 366 | ⋯ | 0 | 1500 | 0 | INTERNET | 31.798819 | windows | 0 | 1 | 0 | 7 |\n",
       "| 1 | 0.9 | 0.04498549 | -1 | 132 | 40 | 3.108548793 | -0.7557277 | AC | 870 | ⋯ | 0 |  200 | 0 | INTERNET |  4.728705 | other   | 0 | 1 | 0 | 7 |\n",
       "| ⋮ | ⋮ | ⋮ | ⋮ | ⋮ | ⋮ | ⋮ | ⋮ | ⋮ | ⋮ | ⋱ | ⋮ | ⋮ | ⋮ | ⋮ | ⋮ | ⋮ | ⋮ | ⋮ | ⋮ | ⋮ |\n",
       "| 0 | 0.6 | 0.8435506 | -1 | 18 | 40 | 0.01090603 | -0.8543749 | AB | 602 | ⋯ | 0 | 1500 | 0 | INTERNET | 5.939641 | other   | 1 | 1 | 0 | 3 |\n",
       "| 0 | 0.4 | 0.6882371 | -1 | 50 | 20 | 0.02786849 | 50.3059704 | AA | 691 | ⋯ | 0 |  500 | 0 | INTERNET | 3.273092 | linux   | 1 | 1 | 0 | 3 |\n",
       "| 0 | 0.7 | 0.7537215 | -1 | 50 | 30 | 0.02482313 | 98.5380625 | AA | 878 | ⋯ | 1 |  500 | 0 | INTERNET | 6.452148 | windows | 0 | 1 | 0 | 3 |\n",
       "\n"
      ],
      "text/plain": [
       "       fraud_bool income name_email_similarity prev_address_months_count\n",
       "1      1          0.9    0.16682773            -1                       \n",
       "2      1          0.9    0.29628601            -1                       \n",
       "3      1          0.9    0.04498549            -1                       \n",
       "⋮      ⋮          ⋮      ⋮                     ⋮                        \n",
       "99998  0          0.6    0.8435506             -1                       \n",
       "99999  0          0.4    0.6882371             -1                       \n",
       "100000 0          0.7    0.7537215             -1                       \n",
       "       current_address_months_count customer_age days_since_request\n",
       "1       88                          50           0.020925173       \n",
       "2      144                          50           0.005417538       \n",
       "3      132                          40           3.108548793       \n",
       "⋮      ⋮                            ⋮            ⋮                 \n",
       "99998  18                           40           0.01090603        \n",
       "99999  50                           20           0.02786849        \n",
       "100000 50                           30           0.02482313        \n",
       "       intended_balcon_amount payment_type zip_count_4w ⋯ has_other_cards\n",
       "1      -1.3313450             AA           769          ⋯ 0              \n",
       "2      -0.8162238             AB           366          ⋯ 0              \n",
       "3      -0.7557277             AC           870          ⋯ 0              \n",
       "⋮      ⋮                      ⋮            ⋮            ⋱ ⋮              \n",
       "99998  -0.8543749             AB           602          ⋯ 0              \n",
       "99999  50.3059704             AA           691          ⋯ 0              \n",
       "100000 98.5380625             AA           878          ⋯ 1              \n",
       "       proposed_credit_limit foreign_request source   session_length_in_minutes\n",
       "1       500                  0               INTERNET  3.888115                \n",
       "2      1500                  0               INTERNET 31.798819                \n",
       "3       200                  0               INTERNET  4.728705                \n",
       "⋮      ⋮                     ⋮               ⋮        ⋮                        \n",
       "99998  1500                  0               INTERNET 5.939641                 \n",
       "99999   500                  0               INTERNET 3.273092                 \n",
       "100000  500                  0               INTERNET 6.452148                 \n",
       "       device_os keep_alive_session device_distinct_emails_8w\n",
       "1      windows   0                  1                        \n",
       "2      windows   0                  1                        \n",
       "3      other     0                  1                        \n",
       "⋮      ⋮         ⋮                  ⋮                        \n",
       "99998  other     1                  1                        \n",
       "99999  linux     1                  1                        \n",
       "100000 windows   0                  1                        \n",
       "       device_fraud_count month\n",
       "1      0                  7    \n",
       "2      0                  7    \n",
       "3      0                  7    \n",
       "⋮      ⋮                  ⋮    \n",
       "99998  0                  3    \n",
       "99999  0                  3    \n",
       "100000 0                  3    "
      ]
     },
     "metadata": {},
     "output_type": "display_data"
    }
   ],
   "source": [
    "fraud_data <- read_csv(\"https://docs.google.com/spreadsheets/d/e/2PACX-1vRL6hq0R8gYhL5VhHlCOGGSKTea3N54QsEC8zcr5pHwuY2Ly5Zc6G83araSMkzwQF7suK_o6tr-4MEP/pub?output=csv\")|>\n",
    "mutate(fraud_bool=as_factor(fraud_bool))\n",
    "\n",
    "fraud_data"
   ]
  },
  {
   "cell_type": "markdown",
   "id": "7c4d7c3a",
   "metadata": {},
   "source": [
    "### 2. Narrowing down to potential predictor variables and filtering for certain characteristics"
   ]
  },
  {
   "cell_type": "markdown",
   "id": "cb5b7ce7",
   "metadata": {},
   "source": [
    "We then narrowed the dataset down to the 6 variables which we felt are most likely to be indicators of fraudulence, as well as the label to be predicted (whether the bank account is fraudulent): \n",
    "\n",
    "- Credit risk score: credit risk score of the applicant. Ranges between [383, -147]\n",
    "- Income: Annual income of the applicant in quantiles. Ranges between [0.1, 0.9].\n",
    "- Months lived at current address: time applicant has lived at current address in months. Ranges between [-1, 399].\n",
    "- Name-email similarity: Metric of similarity between email and applicant’s name. Higher values represent higher similarity. Ranges between [3.83e-05, 0.9999957].\n",
    "- Session length in minutes: unknown. Ranges between [-1, 83.37677].\n",
    "- Proposed credit limit: proposed credit limit of the applicant. Ranges between [190, 2100].\n",
    "- Fraud_bool: Fraud label **(1 if fraud, 0 if legitimate)**.\n",
    "\n",
    "In addition, we also filtered for observations with the following characteristics:\n",
    "\n",
    "- From the month of July\n",
    "- With the employment status of 'CA' \n",
    "- With the housing status of 'BA'\n",
    "\n",
    "Since the dataset is synthetic, the employment and housing statuses have arbitrary meaning. "
   ]
  },
  {
   "cell_type": "code",
   "execution_count": 3,
   "id": "2127c753-e519-4f7e-8ac8-4383c7f3e24d",
   "metadata": {},
   "outputs": [
    {
     "data": {
      "text/html": [
       "<table class=\"dataframe\">\n",
       "<caption>A tibble: 1 × 2</caption>\n",
       "<thead>\n",
       "\t<tr><th scope=col>max</th><th scope=col>min</th></tr>\n",
       "\t<tr><th scope=col>&lt;dbl&gt;</th><th scope=col>&lt;dbl&gt;</th></tr>\n",
       "</thead>\n",
       "<tbody>\n",
       "\t<tr><td>383</td><td>-147</td></tr>\n",
       "</tbody>\n",
       "</table>\n"
      ],
      "text/latex": [
       "A tibble: 1 × 2\n",
       "\\begin{tabular}{ll}\n",
       " max & min\\\\\n",
       " <dbl> & <dbl>\\\\\n",
       "\\hline\n",
       "\t 383 & -147\\\\\n",
       "\\end{tabular}\n"
      ],
      "text/markdown": [
       "\n",
       "A tibble: 1 × 2\n",
       "\n",
       "| max &lt;dbl&gt; | min &lt;dbl&gt; |\n",
       "|---|---|\n",
       "| 383 | -147 |\n",
       "\n"
      ],
      "text/plain": [
       "  max min \n",
       "1 383 -147"
      ]
     },
     "metadata": {},
     "output_type": "display_data"
    },
    {
     "data": {
      "text/html": [
       "<table class=\"dataframe\">\n",
       "<caption>A tibble: 1 × 2</caption>\n",
       "<thead>\n",
       "\t<tr><th scope=col>max</th><th scope=col>min</th></tr>\n",
       "\t<tr><th scope=col>&lt;dbl&gt;</th><th scope=col>&lt;dbl&gt;</th></tr>\n",
       "</thead>\n",
       "<tbody>\n",
       "\t<tr><td>0.9</td><td>0.1</td></tr>\n",
       "</tbody>\n",
       "</table>\n"
      ],
      "text/latex": [
       "A tibble: 1 × 2\n",
       "\\begin{tabular}{ll}\n",
       " max & min\\\\\n",
       " <dbl> & <dbl>\\\\\n",
       "\\hline\n",
       "\t 0.9 & 0.1\\\\\n",
       "\\end{tabular}\n"
      ],
      "text/markdown": [
       "\n",
       "A tibble: 1 × 2\n",
       "\n",
       "| max &lt;dbl&gt; | min &lt;dbl&gt; |\n",
       "|---|---|\n",
       "| 0.9 | 0.1 |\n",
       "\n"
      ],
      "text/plain": [
       "  max min\n",
       "1 0.9 0.1"
      ]
     },
     "metadata": {},
     "output_type": "display_data"
    },
    {
     "data": {
      "text/html": [
       "<table class=\"dataframe\">\n",
       "<caption>A tibble: 1 × 2</caption>\n",
       "<thead>\n",
       "\t<tr><th scope=col>max</th><th scope=col>min</th></tr>\n",
       "\t<tr><th scope=col>&lt;dbl&gt;</th><th scope=col>&lt;dbl&gt;</th></tr>\n",
       "</thead>\n",
       "<tbody>\n",
       "\t<tr><td>399</td><td>-1</td></tr>\n",
       "</tbody>\n",
       "</table>\n"
      ],
      "text/latex": [
       "A tibble: 1 × 2\n",
       "\\begin{tabular}{ll}\n",
       " max & min\\\\\n",
       " <dbl> & <dbl>\\\\\n",
       "\\hline\n",
       "\t 399 & -1\\\\\n",
       "\\end{tabular}\n"
      ],
      "text/markdown": [
       "\n",
       "A tibble: 1 × 2\n",
       "\n",
       "| max &lt;dbl&gt; | min &lt;dbl&gt; |\n",
       "|---|---|\n",
       "| 399 | -1 |\n",
       "\n"
      ],
      "text/plain": [
       "  max min\n",
       "1 399 -1 "
      ]
     },
     "metadata": {},
     "output_type": "display_data"
    },
    {
     "data": {
      "text/html": [
       "<table class=\"dataframe\">\n",
       "<caption>A tibble: 1 × 2</caption>\n",
       "<thead>\n",
       "\t<tr><th scope=col>max</th><th scope=col>min</th></tr>\n",
       "\t<tr><th scope=col>&lt;dbl&gt;</th><th scope=col>&lt;dbl&gt;</th></tr>\n",
       "</thead>\n",
       "<tbody>\n",
       "\t<tr><td>0.9999957</td><td>3.83e-05</td></tr>\n",
       "</tbody>\n",
       "</table>\n"
      ],
      "text/latex": [
       "A tibble: 1 × 2\n",
       "\\begin{tabular}{ll}\n",
       " max & min\\\\\n",
       " <dbl> & <dbl>\\\\\n",
       "\\hline\n",
       "\t 0.9999957 & 3.83e-05\\\\\n",
       "\\end{tabular}\n"
      ],
      "text/markdown": [
       "\n",
       "A tibble: 1 × 2\n",
       "\n",
       "| max &lt;dbl&gt; | min &lt;dbl&gt; |\n",
       "|---|---|\n",
       "| 0.9999957 | 3.83e-05 |\n",
       "\n"
      ],
      "text/plain": [
       "  max       min     \n",
       "1 0.9999957 3.83e-05"
      ]
     },
     "metadata": {},
     "output_type": "display_data"
    },
    {
     "data": {
      "text/html": [
       "<table class=\"dataframe\">\n",
       "<caption>A tibble: 1 × 2</caption>\n",
       "<thead>\n",
       "\t<tr><th scope=col>max</th><th scope=col>min</th></tr>\n",
       "\t<tr><th scope=col>&lt;dbl&gt;</th><th scope=col>&lt;dbl&gt;</th></tr>\n",
       "</thead>\n",
       "<tbody>\n",
       "\t<tr><td>83.37677</td><td>-1</td></tr>\n",
       "</tbody>\n",
       "</table>\n"
      ],
      "text/latex": [
       "A tibble: 1 × 2\n",
       "\\begin{tabular}{ll}\n",
       " max & min\\\\\n",
       " <dbl> & <dbl>\\\\\n",
       "\\hline\n",
       "\t 83.37677 & -1\\\\\n",
       "\\end{tabular}\n"
      ],
      "text/markdown": [
       "\n",
       "A tibble: 1 × 2\n",
       "\n",
       "| max &lt;dbl&gt; | min &lt;dbl&gt; |\n",
       "|---|---|\n",
       "| 83.37677 | -1 |\n",
       "\n"
      ],
      "text/plain": [
       "  max      min\n",
       "1 83.37677 -1 "
      ]
     },
     "metadata": {},
     "output_type": "display_data"
    },
    {
     "data": {
      "text/html": [
       "<table class=\"dataframe\">\n",
       "<caption>A tibble: 1 × 2</caption>\n",
       "<thead>\n",
       "\t<tr><th scope=col>max</th><th scope=col>min</th></tr>\n",
       "\t<tr><th scope=col>&lt;dbl&gt;</th><th scope=col>&lt;dbl&gt;</th></tr>\n",
       "</thead>\n",
       "<tbody>\n",
       "\t<tr><td>2100</td><td>190</td></tr>\n",
       "</tbody>\n",
       "</table>\n"
      ],
      "text/latex": [
       "A tibble: 1 × 2\n",
       "\\begin{tabular}{ll}\n",
       " max & min\\\\\n",
       " <dbl> & <dbl>\\\\\n",
       "\\hline\n",
       "\t 2100 & 190\\\\\n",
       "\\end{tabular}\n"
      ],
      "text/markdown": [
       "\n",
       "A tibble: 1 × 2\n",
       "\n",
       "| max &lt;dbl&gt; | min &lt;dbl&gt; |\n",
       "|---|---|\n",
       "| 2100 | 190 |\n",
       "\n"
      ],
      "text/plain": [
       "  max  min\n",
       "1 2100 190"
      ]
     },
     "metadata": {},
     "output_type": "display_data"
    }
   ],
   "source": [
    "range_credit_risk_score = fraud_data |>\n",
    "    summarize(max = max(credit_risk_score), min = min(credit_risk_score))\n",
    "\n",
    "range_credit_risk_score\n",
    "\n",
    "range_income = fraud_data |>\n",
    "    summarize(max = max(income), min = min(income))\n",
    "\n",
    "range_income\n",
    "\n",
    "range_current_address_months_count = fraud_data |>\n",
    "    summarize(max = max(current_address_months_count), min = min(current_address_months_count))\n",
    "\n",
    "range_current_address_months_count\n",
    "\n",
    "range_name_email_similarity = fraud_data |>\n",
    "    summarize(max = max(name_email_similarity), min = min(name_email_similarity))\n",
    "\n",
    "range_name_email_similarity\n",
    "\n",
    "range_session_length_in_minutes = fraud_data |>\n",
    "    summarize(max = max(session_length_in_minutes), min = min(session_length_in_minutes))\n",
    "\n",
    "range_session_length_in_minutes\n",
    "\n",
    "range_proposed_credit_limit = fraud_data |>\n",
    "    summarize(max = max(proposed_credit_limit), min = min(proposed_credit_limit))\n",
    "\n",
    "range_proposed_credit_limit"
   ]
  },
  {
   "cell_type": "code",
   "execution_count": 4,
   "id": "20a6c11d",
   "metadata": {
    "vscode": {
     "languageId": "r"
    }
   },
   "outputs": [
    {
     "data": {
      "text/html": [
       "<table class=\"dataframe\">\n",
       "<caption>A tibble: 15369 × 7</caption>\n",
       "<thead>\n",
       "\t<tr><th scope=col>fraud_bool</th><th scope=col>credit_risk_score</th><th scope=col>income</th><th scope=col>current_address_months_count</th><th scope=col>name_email_similarity</th><th scope=col>session_length_in_minutes</th><th scope=col>proposed_credit_limit</th></tr>\n",
       "\t<tr><th scope=col>&lt;fct&gt;</th><th scope=col>&lt;dbl&gt;</th><th scope=col>&lt;dbl&gt;</th><th scope=col>&lt;dbl&gt;</th><th scope=col>&lt;dbl&gt;</th><th scope=col>&lt;dbl&gt;</th><th scope=col>&lt;dbl&gt;</th></tr>\n",
       "</thead>\n",
       "<tbody>\n",
       "\t<tr><td>1</td><td>185</td><td>0.9</td><td> 88</td><td>0.1668277</td><td> 3.888115</td><td> 500</td></tr>\n",
       "\t<tr><td>1</td><td>259</td><td>0.9</td><td>144</td><td>0.2962860</td><td>31.798819</td><td>1500</td></tr>\n",
       "\t<tr><td>1</td><td>110</td><td>0.9</td><td> 22</td><td>0.1595112</td><td> 2.047904</td><td> 200</td></tr>\n",
       "\t<tr><td>⋮</td><td>⋮</td><td>⋮</td><td>⋮</td><td>⋮</td><td>⋮</td><td>⋮</td></tr>\n",
       "\t<tr><td>0</td><td>179</td><td>0.9</td><td>134</td><td>0.6891395</td><td>2.310369</td><td> 500</td></tr>\n",
       "\t<tr><td>0</td><td>234</td><td>0.9</td><td>  3</td><td>0.5094120</td><td>2.943703</td><td>1000</td></tr>\n",
       "\t<tr><td>0</td><td>244</td><td>0.8</td><td>131</td><td>0.8623505</td><td>4.555719</td><td>1500</td></tr>\n",
       "</tbody>\n",
       "</table>\n"
      ],
      "text/latex": [
       "A tibble: 15369 × 7\n",
       "\\begin{tabular}{lllllll}\n",
       " fraud\\_bool & credit\\_risk\\_score & income & current\\_address\\_months\\_count & name\\_email\\_similarity & session\\_length\\_in\\_minutes & proposed\\_credit\\_limit\\\\\n",
       " <fct> & <dbl> & <dbl> & <dbl> & <dbl> & <dbl> & <dbl>\\\\\n",
       "\\hline\n",
       "\t 1 & 185 & 0.9 &  88 & 0.1668277 &  3.888115 &  500\\\\\n",
       "\t 1 & 259 & 0.9 & 144 & 0.2962860 & 31.798819 & 1500\\\\\n",
       "\t 1 & 110 & 0.9 &  22 & 0.1595112 &  2.047904 &  200\\\\\n",
       "\t ⋮ & ⋮ & ⋮ & ⋮ & ⋮ & ⋮ & ⋮\\\\\n",
       "\t 0 & 179 & 0.9 & 134 & 0.6891395 & 2.310369 &  500\\\\\n",
       "\t 0 & 234 & 0.9 &   3 & 0.5094120 & 2.943703 & 1000\\\\\n",
       "\t 0 & 244 & 0.8 & 131 & 0.8623505 & 4.555719 & 1500\\\\\n",
       "\\end{tabular}\n"
      ],
      "text/markdown": [
       "\n",
       "A tibble: 15369 × 7\n",
       "\n",
       "| fraud_bool &lt;fct&gt; | credit_risk_score &lt;dbl&gt; | income &lt;dbl&gt; | current_address_months_count &lt;dbl&gt; | name_email_similarity &lt;dbl&gt; | session_length_in_minutes &lt;dbl&gt; | proposed_credit_limit &lt;dbl&gt; |\n",
       "|---|---|---|---|---|---|---|\n",
       "| 1 | 185 | 0.9 |  88 | 0.1668277 |  3.888115 |  500 |\n",
       "| 1 | 259 | 0.9 | 144 | 0.2962860 | 31.798819 | 1500 |\n",
       "| 1 | 110 | 0.9 |  22 | 0.1595112 |  2.047904 |  200 |\n",
       "| ⋮ | ⋮ | ⋮ | ⋮ | ⋮ | ⋮ | ⋮ |\n",
       "| 0 | 179 | 0.9 | 134 | 0.6891395 | 2.310369 |  500 |\n",
       "| 0 | 234 | 0.9 |   3 | 0.5094120 | 2.943703 | 1000 |\n",
       "| 0 | 244 | 0.8 | 131 | 0.8623505 | 4.555719 | 1500 |\n",
       "\n"
      ],
      "text/plain": [
       "      fraud_bool credit_risk_score income current_address_months_count\n",
       "1     1          185               0.9     88                         \n",
       "2     1          259               0.9    144                         \n",
       "3     1          110               0.9     22                         \n",
       "⋮     ⋮          ⋮                 ⋮      ⋮                           \n",
       "15367 0          179               0.9    134                         \n",
       "15368 0          234               0.9      3                         \n",
       "15369 0          244               0.8    131                         \n",
       "      name_email_similarity session_length_in_minutes proposed_credit_limit\n",
       "1     0.1668277              3.888115                  500                 \n",
       "2     0.2962860             31.798819                 1500                 \n",
       "3     0.1595112              2.047904                  200                 \n",
       "⋮     ⋮                     ⋮                         ⋮                    \n",
       "15367 0.6891395             2.310369                   500                 \n",
       "15368 0.5094120             2.943703                  1000                 \n",
       "15369 0.8623505             4.555719                  1500                 "
      ]
     },
     "metadata": {},
     "output_type": "display_data"
    }
   ],
   "source": [
    "set.seed(9999)\n",
    "\n",
    "fraud_narrowed <- fraud_data |>\n",
    "    filter(month == 7, employment_status == \"CA\", housing_status == \"BA\") |>\n",
    "    select(fraud_bool, credit_risk_score, income, current_address_months_count, name_email_similarity, session_length_in_minutes, proposed_credit_limit)    \n",
    "fraud_narrowed"
   ]
  },
  {
   "cell_type": "markdown",
   "id": "45dcb9c7",
   "metadata": {},
   "source": [
    "### 3. Data cleaning and splitting of dataset"
   ]
  },
  {
   "cell_type": "markdown",
   "id": "d64fcdd6-5d32-43e4-8a9e-e6ad5bafd803",
   "metadata": {},
   "source": [
    "Firstly, we cleaned our data to remove observations with -1 for the \"months lived at current address\" and \"session length in minutes\" variables, since it is likely that -1 does not actually denote a value of -1 and instead denotes that the value was not available."
   ]
  },
  {
   "cell_type": "code",
   "execution_count": 5,
   "id": "7c4d592a-da96-43fc-b686-e97f8b4a604b",
   "metadata": {},
   "outputs": [
    {
     "data": {
      "text/html": [
       "<table class=\"dataframe\">\n",
       "<caption>A tibble: 98954 × 32</caption>\n",
       "<thead>\n",
       "\t<tr><th scope=col>fraud_bool</th><th scope=col>income</th><th scope=col>name_email_similarity</th><th scope=col>prev_address_months_count</th><th scope=col>current_address_months_count</th><th scope=col>customer_age</th><th scope=col>days_since_request</th><th scope=col>intended_balcon_amount</th><th scope=col>payment_type</th><th scope=col>zip_count_4w</th><th scope=col>⋯</th><th scope=col>has_other_cards</th><th scope=col>proposed_credit_limit</th><th scope=col>foreign_request</th><th scope=col>source</th><th scope=col>session_length_in_minutes</th><th scope=col>device_os</th><th scope=col>keep_alive_session</th><th scope=col>device_distinct_emails_8w</th><th scope=col>device_fraud_count</th><th scope=col>month</th></tr>\n",
       "\t<tr><th scope=col>&lt;fct&gt;</th><th scope=col>&lt;dbl&gt;</th><th scope=col>&lt;dbl&gt;</th><th scope=col>&lt;dbl&gt;</th><th scope=col>&lt;dbl&gt;</th><th scope=col>&lt;dbl&gt;</th><th scope=col>&lt;dbl&gt;</th><th scope=col>&lt;dbl&gt;</th><th scope=col>&lt;chr&gt;</th><th scope=col>&lt;dbl&gt;</th><th scope=col>⋯</th><th scope=col>&lt;dbl&gt;</th><th scope=col>&lt;dbl&gt;</th><th scope=col>&lt;dbl&gt;</th><th scope=col>&lt;chr&gt;</th><th scope=col>&lt;dbl&gt;</th><th scope=col>&lt;chr&gt;</th><th scope=col>&lt;dbl&gt;</th><th scope=col>&lt;dbl&gt;</th><th scope=col>&lt;dbl&gt;</th><th scope=col>&lt;dbl&gt;</th></tr>\n",
       "</thead>\n",
       "<tbody>\n",
       "\t<tr><td>1</td><td>0.9</td><td>0.16682773</td><td>-1</td><td> 88</td><td>50</td><td>0.020925173</td><td>-1.3313450</td><td>AA</td><td>769</td><td>⋯</td><td>0</td><td> 500</td><td>0</td><td>INTERNET</td><td> 3.888115</td><td>windows</td><td>0</td><td>1</td><td>0</td><td>7</td></tr>\n",
       "\t<tr><td>1</td><td>0.9</td><td>0.29628601</td><td>-1</td><td>144</td><td>50</td><td>0.005417538</td><td>-0.8162238</td><td>AB</td><td>366</td><td>⋯</td><td>0</td><td>1500</td><td>0</td><td>INTERNET</td><td>31.798819</td><td>windows</td><td>0</td><td>1</td><td>0</td><td>7</td></tr>\n",
       "\t<tr><td>1</td><td>0.9</td><td>0.04498549</td><td>-1</td><td>132</td><td>40</td><td>3.108548793</td><td>-0.7557277</td><td>AC</td><td>870</td><td>⋯</td><td>0</td><td> 200</td><td>0</td><td>INTERNET</td><td> 4.728705</td><td>other  </td><td>0</td><td>1</td><td>0</td><td>7</td></tr>\n",
       "\t<tr><td>⋮</td><td>⋮</td><td>⋮</td><td>⋮</td><td>⋮</td><td>⋮</td><td>⋮</td><td>⋮</td><td>⋮</td><td>⋮</td><td>⋱</td><td>⋮</td><td>⋮</td><td>⋮</td><td>⋮</td><td>⋮</td><td>⋮</td><td>⋮</td><td>⋮</td><td>⋮</td><td>⋮</td></tr>\n",
       "\t<tr><td>0</td><td>0.6</td><td>0.8435506</td><td>-1</td><td>18</td><td>40</td><td>0.01090603</td><td>-0.8543749</td><td>AB</td><td>602</td><td>⋯</td><td>0</td><td>1500</td><td>0</td><td>INTERNET</td><td>5.939641</td><td>other  </td><td>1</td><td>1</td><td>0</td><td>3</td></tr>\n",
       "\t<tr><td>0</td><td>0.4</td><td>0.6882371</td><td>-1</td><td>50</td><td>20</td><td>0.02786849</td><td>50.3059704</td><td>AA</td><td>691</td><td>⋯</td><td>0</td><td> 500</td><td>0</td><td>INTERNET</td><td>3.273092</td><td>linux  </td><td>1</td><td>1</td><td>0</td><td>3</td></tr>\n",
       "\t<tr><td>0</td><td>0.7</td><td>0.7537215</td><td>-1</td><td>50</td><td>30</td><td>0.02482313</td><td>98.5380625</td><td>AA</td><td>878</td><td>⋯</td><td>1</td><td> 500</td><td>0</td><td>INTERNET</td><td>6.452148</td><td>windows</td><td>0</td><td>1</td><td>0</td><td>3</td></tr>\n",
       "</tbody>\n",
       "</table>\n"
      ],
      "text/latex": [
       "A tibble: 98954 × 32\n",
       "\\begin{tabular}{lllllllllllllllllllll}\n",
       " fraud\\_bool & income & name\\_email\\_similarity & prev\\_address\\_months\\_count & current\\_address\\_months\\_count & customer\\_age & days\\_since\\_request & intended\\_balcon\\_amount & payment\\_type & zip\\_count\\_4w & ⋯ & has\\_other\\_cards & proposed\\_credit\\_limit & foreign\\_request & source & session\\_length\\_in\\_minutes & device\\_os & keep\\_alive\\_session & device\\_distinct\\_emails\\_8w & device\\_fraud\\_count & month\\\\\n",
       " <fct> & <dbl> & <dbl> & <dbl> & <dbl> & <dbl> & <dbl> & <dbl> & <chr> & <dbl> & ⋯ & <dbl> & <dbl> & <dbl> & <chr> & <dbl> & <chr> & <dbl> & <dbl> & <dbl> & <dbl>\\\\\n",
       "\\hline\n",
       "\t 1 & 0.9 & 0.16682773 & -1 &  88 & 50 & 0.020925173 & -1.3313450 & AA & 769 & ⋯ & 0 &  500 & 0 & INTERNET &  3.888115 & windows & 0 & 1 & 0 & 7\\\\\n",
       "\t 1 & 0.9 & 0.29628601 & -1 & 144 & 50 & 0.005417538 & -0.8162238 & AB & 366 & ⋯ & 0 & 1500 & 0 & INTERNET & 31.798819 & windows & 0 & 1 & 0 & 7\\\\\n",
       "\t 1 & 0.9 & 0.04498549 & -1 & 132 & 40 & 3.108548793 & -0.7557277 & AC & 870 & ⋯ & 0 &  200 & 0 & INTERNET &  4.728705 & other   & 0 & 1 & 0 & 7\\\\\n",
       "\t ⋮ & ⋮ & ⋮ & ⋮ & ⋮ & ⋮ & ⋮ & ⋮ & ⋮ & ⋮ & ⋱ & ⋮ & ⋮ & ⋮ & ⋮ & ⋮ & ⋮ & ⋮ & ⋮ & ⋮ & ⋮\\\\\n",
       "\t 0 & 0.6 & 0.8435506 & -1 & 18 & 40 & 0.01090603 & -0.8543749 & AB & 602 & ⋯ & 0 & 1500 & 0 & INTERNET & 5.939641 & other   & 1 & 1 & 0 & 3\\\\\n",
       "\t 0 & 0.4 & 0.6882371 & -1 & 50 & 20 & 0.02786849 & 50.3059704 & AA & 691 & ⋯ & 0 &  500 & 0 & INTERNET & 3.273092 & linux   & 1 & 1 & 0 & 3\\\\\n",
       "\t 0 & 0.7 & 0.7537215 & -1 & 50 & 30 & 0.02482313 & 98.5380625 & AA & 878 & ⋯ & 1 &  500 & 0 & INTERNET & 6.452148 & windows & 0 & 1 & 0 & 3\\\\\n",
       "\\end{tabular}\n"
      ],
      "text/markdown": [
       "\n",
       "A tibble: 98954 × 32\n",
       "\n",
       "| fraud_bool &lt;fct&gt; | income &lt;dbl&gt; | name_email_similarity &lt;dbl&gt; | prev_address_months_count &lt;dbl&gt; | current_address_months_count &lt;dbl&gt; | customer_age &lt;dbl&gt; | days_since_request &lt;dbl&gt; | intended_balcon_amount &lt;dbl&gt; | payment_type &lt;chr&gt; | zip_count_4w &lt;dbl&gt; | ⋯ ⋯ | has_other_cards &lt;dbl&gt; | proposed_credit_limit &lt;dbl&gt; | foreign_request &lt;dbl&gt; | source &lt;chr&gt; | session_length_in_minutes &lt;dbl&gt; | device_os &lt;chr&gt; | keep_alive_session &lt;dbl&gt; | device_distinct_emails_8w &lt;dbl&gt; | device_fraud_count &lt;dbl&gt; | month &lt;dbl&gt; |\n",
       "|---|---|---|---|---|---|---|---|---|---|---|---|---|---|---|---|---|---|---|---|---|\n",
       "| 1 | 0.9 | 0.16682773 | -1 |  88 | 50 | 0.020925173 | -1.3313450 | AA | 769 | ⋯ | 0 |  500 | 0 | INTERNET |  3.888115 | windows | 0 | 1 | 0 | 7 |\n",
       "| 1 | 0.9 | 0.29628601 | -1 | 144 | 50 | 0.005417538 | -0.8162238 | AB | 366 | ⋯ | 0 | 1500 | 0 | INTERNET | 31.798819 | windows | 0 | 1 | 0 | 7 |\n",
       "| 1 | 0.9 | 0.04498549 | -1 | 132 | 40 | 3.108548793 | -0.7557277 | AC | 870 | ⋯ | 0 |  200 | 0 | INTERNET |  4.728705 | other   | 0 | 1 | 0 | 7 |\n",
       "| ⋮ | ⋮ | ⋮ | ⋮ | ⋮ | ⋮ | ⋮ | ⋮ | ⋮ | ⋮ | ⋱ | ⋮ | ⋮ | ⋮ | ⋮ | ⋮ | ⋮ | ⋮ | ⋮ | ⋮ | ⋮ |\n",
       "| 0 | 0.6 | 0.8435506 | -1 | 18 | 40 | 0.01090603 | -0.8543749 | AB | 602 | ⋯ | 0 | 1500 | 0 | INTERNET | 5.939641 | other   | 1 | 1 | 0 | 3 |\n",
       "| 0 | 0.4 | 0.6882371 | -1 | 50 | 20 | 0.02786849 | 50.3059704 | AA | 691 | ⋯ | 0 |  500 | 0 | INTERNET | 3.273092 | linux   | 1 | 1 | 0 | 3 |\n",
       "| 0 | 0.7 | 0.7537215 | -1 | 50 | 30 | 0.02482313 | 98.5380625 | AA | 878 | ⋯ | 1 |  500 | 0 | INTERNET | 6.452148 | windows | 0 | 1 | 0 | 3 |\n",
       "\n"
      ],
      "text/plain": [
       "      fraud_bool income name_email_similarity prev_address_months_count\n",
       "1     1          0.9    0.16682773            -1                       \n",
       "2     1          0.9    0.29628601            -1                       \n",
       "3     1          0.9    0.04498549            -1                       \n",
       "⋮     ⋮          ⋮      ⋮                     ⋮                        \n",
       "98952 0          0.6    0.8435506             -1                       \n",
       "98953 0          0.4    0.6882371             -1                       \n",
       "98954 0          0.7    0.7537215             -1                       \n",
       "      current_address_months_count customer_age days_since_request\n",
       "1      88                          50           0.020925173       \n",
       "2     144                          50           0.005417538       \n",
       "3     132                          40           3.108548793       \n",
       "⋮     ⋮                            ⋮            ⋮                 \n",
       "98952 18                           40           0.01090603        \n",
       "98953 50                           20           0.02786849        \n",
       "98954 50                           30           0.02482313        \n",
       "      intended_balcon_amount payment_type zip_count_4w ⋯ has_other_cards\n",
       "1     -1.3313450             AA           769          ⋯ 0              \n",
       "2     -0.8162238             AB           366          ⋯ 0              \n",
       "3     -0.7557277             AC           870          ⋯ 0              \n",
       "⋮     ⋮                      ⋮            ⋮            ⋱ ⋮              \n",
       "98952 -0.8543749             AB           602          ⋯ 0              \n",
       "98953 50.3059704             AA           691          ⋯ 0              \n",
       "98954 98.5380625             AA           878          ⋯ 1              \n",
       "      proposed_credit_limit foreign_request source   session_length_in_minutes\n",
       "1      500                  0               INTERNET  3.888115                \n",
       "2     1500                  0               INTERNET 31.798819                \n",
       "3      200                  0               INTERNET  4.728705                \n",
       "⋮     ⋮                     ⋮               ⋮        ⋮                        \n",
       "98952 1500                  0               INTERNET 5.939641                 \n",
       "98953  500                  0               INTERNET 3.273092                 \n",
       "98954  500                  0               INTERNET 6.452148                 \n",
       "      device_os keep_alive_session device_distinct_emails_8w device_fraud_count\n",
       "1     windows   0                  1                         0                 \n",
       "2     windows   0                  1                         0                 \n",
       "3     other     0                  1                         0                 \n",
       "⋮     ⋮         ⋮                  ⋮                         ⋮                 \n",
       "98952 other     1                  1                         0                 \n",
       "98953 linux     1                  1                         0                 \n",
       "98954 windows   0                  1                         0                 \n",
       "      month\n",
       "1     7    \n",
       "2     7    \n",
       "3     7    \n",
       "⋮     ⋮    \n",
       "98952 3    \n",
       "98953 3    \n",
       "98954 3    "
      ]
     },
     "metadata": {},
     "output_type": "display_data"
    }
   ],
   "source": [
    "fraud_data <- fraud_data |>\n",
    "    filter(current_address_months_count != -1, session_length_in_minutes != -1)\n",
    "\n",
    "fraud_data"
   ]
  },
  {
   "cell_type": "markdown",
   "id": "b938a916",
   "metadata": {},
   "source": [
    "Then, we split the dataset into two datasets, a training dataset and a testing dataset. We did this so that we could accurately evaluate our final classification model using testing data it had not yet seen."
   ]
  },
  {
   "cell_type": "code",
   "execution_count": 6,
   "id": "cd385be8",
   "metadata": {
    "vscode": {
     "languageId": "r"
    }
   },
   "outputs": [
    {
     "data": {
      "text/html": [
       "<table class=\"dataframe\">\n",
       "<caption>A tibble: 11526 × 7</caption>\n",
       "<thead>\n",
       "\t<tr><th scope=col>fraud_bool</th><th scope=col>credit_risk_score</th><th scope=col>income</th><th scope=col>current_address_months_count</th><th scope=col>name_email_similarity</th><th scope=col>session_length_in_minutes</th><th scope=col>proposed_credit_limit</th></tr>\n",
       "\t<tr><th scope=col>&lt;fct&gt;</th><th scope=col>&lt;dbl&gt;</th><th scope=col>&lt;dbl&gt;</th><th scope=col>&lt;dbl&gt;</th><th scope=col>&lt;dbl&gt;</th><th scope=col>&lt;dbl&gt;</th><th scope=col>&lt;dbl&gt;</th></tr>\n",
       "</thead>\n",
       "<tbody>\n",
       "\t<tr><td>1</td><td>185</td><td>0.9</td><td> 88</td><td>0.1668277</td><td> 3.888115</td><td> 500</td></tr>\n",
       "\t<tr><td>1</td><td>259</td><td>0.9</td><td>144</td><td>0.2962860</td><td>31.798819</td><td>1500</td></tr>\n",
       "\t<tr><td>1</td><td>295</td><td>0.9</td><td>218</td><td>0.5964137</td><td> 3.775225</td><td>1500</td></tr>\n",
       "\t<tr><td>⋮</td><td>⋮</td><td>⋮</td><td>⋮</td><td>⋮</td><td>⋮</td><td>⋮</td></tr>\n",
       "\t<tr><td>0</td><td>154</td><td>0.9</td><td> 40</td><td>0.04758588</td><td>1.075560</td><td> 200</td></tr>\n",
       "\t<tr><td>0</td><td>266</td><td>0.4</td><td>141</td><td>0.02963662</td><td>5.247373</td><td>1000</td></tr>\n",
       "\t<tr><td>0</td><td>244</td><td>0.8</td><td>131</td><td>0.86235045</td><td>4.555719</td><td>1500</td></tr>\n",
       "</tbody>\n",
       "</table>\n"
      ],
      "text/latex": [
       "A tibble: 11526 × 7\n",
       "\\begin{tabular}{lllllll}\n",
       " fraud\\_bool & credit\\_risk\\_score & income & current\\_address\\_months\\_count & name\\_email\\_similarity & session\\_length\\_in\\_minutes & proposed\\_credit\\_limit\\\\\n",
       " <fct> & <dbl> & <dbl> & <dbl> & <dbl> & <dbl> & <dbl>\\\\\n",
       "\\hline\n",
       "\t 1 & 185 & 0.9 &  88 & 0.1668277 &  3.888115 &  500\\\\\n",
       "\t 1 & 259 & 0.9 & 144 & 0.2962860 & 31.798819 & 1500\\\\\n",
       "\t 1 & 295 & 0.9 & 218 & 0.5964137 &  3.775225 & 1500\\\\\n",
       "\t ⋮ & ⋮ & ⋮ & ⋮ & ⋮ & ⋮ & ⋮\\\\\n",
       "\t 0 & 154 & 0.9 &  40 & 0.04758588 & 1.075560 &  200\\\\\n",
       "\t 0 & 266 & 0.4 & 141 & 0.02963662 & 5.247373 & 1000\\\\\n",
       "\t 0 & 244 & 0.8 & 131 & 0.86235045 & 4.555719 & 1500\\\\\n",
       "\\end{tabular}\n"
      ],
      "text/markdown": [
       "\n",
       "A tibble: 11526 × 7\n",
       "\n",
       "| fraud_bool &lt;fct&gt; | credit_risk_score &lt;dbl&gt; | income &lt;dbl&gt; | current_address_months_count &lt;dbl&gt; | name_email_similarity &lt;dbl&gt; | session_length_in_minutes &lt;dbl&gt; | proposed_credit_limit &lt;dbl&gt; |\n",
       "|---|---|---|---|---|---|---|\n",
       "| 1 | 185 | 0.9 |  88 | 0.1668277 |  3.888115 |  500 |\n",
       "| 1 | 259 | 0.9 | 144 | 0.2962860 | 31.798819 | 1500 |\n",
       "| 1 | 295 | 0.9 | 218 | 0.5964137 |  3.775225 | 1500 |\n",
       "| ⋮ | ⋮ | ⋮ | ⋮ | ⋮ | ⋮ | ⋮ |\n",
       "| 0 | 154 | 0.9 |  40 | 0.04758588 | 1.075560 |  200 |\n",
       "| 0 | 266 | 0.4 | 141 | 0.02963662 | 5.247373 | 1000 |\n",
       "| 0 | 244 | 0.8 | 131 | 0.86235045 | 4.555719 | 1500 |\n",
       "\n"
      ],
      "text/plain": [
       "      fraud_bool credit_risk_score income current_address_months_count\n",
       "1     1          185               0.9     88                         \n",
       "2     1          259               0.9    144                         \n",
       "3     1          295               0.9    218                         \n",
       "⋮     ⋮          ⋮                 ⋮      ⋮                           \n",
       "11524 0          154               0.9     40                         \n",
       "11525 0          266               0.4    141                         \n",
       "11526 0          244               0.8    131                         \n",
       "      name_email_similarity session_length_in_minutes proposed_credit_limit\n",
       "1     0.1668277              3.888115                  500                 \n",
       "2     0.2962860             31.798819                 1500                 \n",
       "3     0.5964137              3.775225                 1500                 \n",
       "⋮     ⋮                     ⋮                         ⋮                    \n",
       "11524 0.04758588            1.075560                   200                 \n",
       "11525 0.02963662            5.247373                  1000                 \n",
       "11526 0.86235045            4.555719                  1500                 "
      ]
     },
     "metadata": {},
     "output_type": "display_data"
    },
    {
     "data": {
      "text/html": [
       "<table class=\"dataframe\">\n",
       "<caption>A tibble: 3843 × 7</caption>\n",
       "<thead>\n",
       "\t<tr><th scope=col>fraud_bool</th><th scope=col>credit_risk_score</th><th scope=col>income</th><th scope=col>current_address_months_count</th><th scope=col>name_email_similarity</th><th scope=col>session_length_in_minutes</th><th scope=col>proposed_credit_limit</th></tr>\n",
       "\t<tr><th scope=col>&lt;fct&gt;</th><th scope=col>&lt;dbl&gt;</th><th scope=col>&lt;dbl&gt;</th><th scope=col>&lt;dbl&gt;</th><th scope=col>&lt;dbl&gt;</th><th scope=col>&lt;dbl&gt;</th><th scope=col>&lt;dbl&gt;</th></tr>\n",
       "</thead>\n",
       "<tbody>\n",
       "\t<tr><td>1</td><td>110</td><td>0.9</td><td> 22</td><td>0.1595112</td><td>2.047904</td><td>200</td></tr>\n",
       "\t<tr><td>1</td><td>220</td><td>0.9</td><td>162</td><td>0.6115532</td><td>3.531939</td><td>200</td></tr>\n",
       "\t<tr><td>1</td><td>143</td><td>0.9</td><td>186</td><td>0.1254526</td><td>3.070971</td><td>200</td></tr>\n",
       "\t<tr><td>⋮</td><td>⋮</td><td>⋮</td><td>⋮</td><td>⋮</td><td>⋮</td><td>⋮</td></tr>\n",
       "\t<tr><td>0</td><td> 46</td><td>0.8</td><td>137</td><td>0.02774166</td><td>2.463003</td><td> 200</td></tr>\n",
       "\t<tr><td>0</td><td>179</td><td>0.9</td><td>134</td><td>0.68913946</td><td>2.310369</td><td> 500</td></tr>\n",
       "\t<tr><td>0</td><td>234</td><td>0.9</td><td>  3</td><td>0.50941196</td><td>2.943703</td><td>1000</td></tr>\n",
       "</tbody>\n",
       "</table>\n"
      ],
      "text/latex": [
       "A tibble: 3843 × 7\n",
       "\\begin{tabular}{lllllll}\n",
       " fraud\\_bool & credit\\_risk\\_score & income & current\\_address\\_months\\_count & name\\_email\\_similarity & session\\_length\\_in\\_minutes & proposed\\_credit\\_limit\\\\\n",
       " <fct> & <dbl> & <dbl> & <dbl> & <dbl> & <dbl> & <dbl>\\\\\n",
       "\\hline\n",
       "\t 1 & 110 & 0.9 &  22 & 0.1595112 & 2.047904 & 200\\\\\n",
       "\t 1 & 220 & 0.9 & 162 & 0.6115532 & 3.531939 & 200\\\\\n",
       "\t 1 & 143 & 0.9 & 186 & 0.1254526 & 3.070971 & 200\\\\\n",
       "\t ⋮ & ⋮ & ⋮ & ⋮ & ⋮ & ⋮ & ⋮\\\\\n",
       "\t 0 &  46 & 0.8 & 137 & 0.02774166 & 2.463003 &  200\\\\\n",
       "\t 0 & 179 & 0.9 & 134 & 0.68913946 & 2.310369 &  500\\\\\n",
       "\t 0 & 234 & 0.9 &   3 & 0.50941196 & 2.943703 & 1000\\\\\n",
       "\\end{tabular}\n"
      ],
      "text/markdown": [
       "\n",
       "A tibble: 3843 × 7\n",
       "\n",
       "| fraud_bool &lt;fct&gt; | credit_risk_score &lt;dbl&gt; | income &lt;dbl&gt; | current_address_months_count &lt;dbl&gt; | name_email_similarity &lt;dbl&gt; | session_length_in_minutes &lt;dbl&gt; | proposed_credit_limit &lt;dbl&gt; |\n",
       "|---|---|---|---|---|---|---|\n",
       "| 1 | 110 | 0.9 |  22 | 0.1595112 | 2.047904 | 200 |\n",
       "| 1 | 220 | 0.9 | 162 | 0.6115532 | 3.531939 | 200 |\n",
       "| 1 | 143 | 0.9 | 186 | 0.1254526 | 3.070971 | 200 |\n",
       "| ⋮ | ⋮ | ⋮ | ⋮ | ⋮ | ⋮ | ⋮ |\n",
       "| 0 |  46 | 0.8 | 137 | 0.02774166 | 2.463003 |  200 |\n",
       "| 0 | 179 | 0.9 | 134 | 0.68913946 | 2.310369 |  500 |\n",
       "| 0 | 234 | 0.9 |   3 | 0.50941196 | 2.943703 | 1000 |\n",
       "\n"
      ],
      "text/plain": [
       "     fraud_bool credit_risk_score income current_address_months_count\n",
       "1    1          110               0.9     22                         \n",
       "2    1          220               0.9    162                         \n",
       "3    1          143               0.9    186                         \n",
       "⋮    ⋮          ⋮                 ⋮      ⋮                           \n",
       "3841 0           46               0.8    137                         \n",
       "3842 0          179               0.9    134                         \n",
       "3843 0          234               0.9      3                         \n",
       "     name_email_similarity session_length_in_minutes proposed_credit_limit\n",
       "1    0.1595112             2.047904                  200                  \n",
       "2    0.6115532             3.531939                  200                  \n",
       "3    0.1254526             3.070971                  200                  \n",
       "⋮    ⋮                     ⋮                         ⋮                    \n",
       "3841 0.02774166            2.463003                   200                 \n",
       "3842 0.68913946            2.310369                   500                 \n",
       "3843 0.50941196            2.943703                  1000                 "
      ]
     },
     "metadata": {},
     "output_type": "display_data"
    },
    {
     "data": {
      "text/html": [
       "11526"
      ],
      "text/latex": [
       "11526"
      ],
      "text/markdown": [
       "11526"
      ],
      "text/plain": [
       "[1] 11526"
      ]
     },
     "metadata": {},
     "output_type": "display_data"
    }
   ],
   "source": [
    "fraud_split <- initial_split(fraud_narrowed, prop = 0.75, strata = fraud_bool)\n",
    "fraud_train <- training(fraud_split)\n",
    "fraud_test <- testing(fraud_split) \n",
    "\n",
    "fraud_train\n",
    "fraud_test \n",
    "\n",
    "number_of_rows <- nrow(fraud_train)\n",
    "number_of_rows"
   ]
  },
  {
   "cell_type": "markdown",
   "id": "77ba3307",
   "metadata": {},
   "source": [
    "### 4. Exploratory data analysis\n",
    "\n",
    "We were left with 11471 rows of training data. \n",
    "\n",
    "Next, we visualised the distribution of fraudulence among newly opened accounts and the distribution of the 6 potential predictor variables (to determine whether they could be used to predict account opening fraud)."
   ]
  },
  {
   "cell_type": "markdown",
   "id": "39ba7d4b-f835-408c-8d53-780066eece9a",
   "metadata": {},
   "source": [
    "**Distribution of Fraudulence**"
   ]
  },
  {
   "cell_type": "code",
   "execution_count": 7,
   "id": "c91da44d",
   "metadata": {
    "vscode": {
     "languageId": "r"
    }
   },
   "outputs": [
    {
     "data": {
      "text/html": [
       "<table class=\"dataframe\">\n",
       "<caption>A tibble: 2 × 3</caption>\n",
       "<thead>\n",
       "\t<tr><th scope=col>fraud_bool</th><th scope=col>count</th><th scope=col>percentage</th></tr>\n",
       "\t<tr><th scope=col>&lt;fct&gt;</th><th scope=col>&lt;int&gt;</th><th scope=col>&lt;dbl&gt;</th></tr>\n",
       "</thead>\n",
       "<tbody>\n",
       "\t<tr><td>0</td><td>10922</td><td>94.759674</td></tr>\n",
       "\t<tr><td>1</td><td>  604</td><td> 5.240326</td></tr>\n",
       "</tbody>\n",
       "</table>\n"
      ],
      "text/latex": [
       "A tibble: 2 × 3\n",
       "\\begin{tabular}{lll}\n",
       " fraud\\_bool & count & percentage\\\\\n",
       " <fct> & <int> & <dbl>\\\\\n",
       "\\hline\n",
       "\t 0 & 10922 & 94.759674\\\\\n",
       "\t 1 &   604 &  5.240326\\\\\n",
       "\\end{tabular}\n"
      ],
      "text/markdown": [
       "\n",
       "A tibble: 2 × 3\n",
       "\n",
       "| fraud_bool &lt;fct&gt; | count &lt;int&gt; | percentage &lt;dbl&gt; |\n",
       "|---|---|---|\n",
       "| 0 | 10922 | 94.759674 |\n",
       "| 1 |   604 |  5.240326 |\n",
       "\n"
      ],
      "text/plain": [
       "  fraud_bool count percentage\n",
       "1 0          10922 94.759674 \n",
       "2 1            604  5.240326 "
      ]
     },
     "metadata": {},
     "output_type": "display_data"
    },
    {
     "data": {
      "image/png": "[encoded data removed]",
      "text/plain": [
       "plot without title"
      ]
     },
     "metadata": {
      "image/png": {
       "height": 420,
       "width": 420
      }
     },
     "output_type": "display_data"
    }
   ],
   "source": [
    "fraud_ratio_train <- fraud_train |>\n",
    "    group_by(fraud_bool) |>\n",
    "    summarize(count = n()) \n",
    "\n",
    "fraud_percentages <- fraud_ratio_train |>\n",
    "    mutate(percentage = (count / number_of_rows) * 100)\n",
    "\n",
    "fraud_percentages_plot <- fraud_percentages |>\n",
    "    ggplot(aes(x = fraud_bool, y = percentage, fill = fraud_bool)) +\n",
    "    geom_bar(stat = \"identity\") +\n",
    "    xlab(\"Fraudulence\") +\n",
    "    ylab(\"Number of accounts\") +\n",
    "    labs(fill = \"Fraudulence\") + \n",
    "    ggtitle(\"95% legitimate accounts, 5% fraudulent accounts\")\n",
    "\n",
    "fraud_percentages\n",
    "fraud_percentages_plot"
   ]
  },
  {
   "cell_type": "markdown",
   "id": "c8a0fd45-7fde-492b-b2a8-98eb460b6885",
   "metadata": {},
   "source": [
    "**Distribution of Credit Risk Score**"
   ]
  },
  {
   "cell_type": "code",
   "execution_count": 8,
   "id": "0748e13b",
   "metadata": {
    "vscode": {
     "languageId": "r"
    }
   },
   "outputs": [
    {
     "data": {
      "text/html": [
       "<table class=\"dataframe\">\n",
       "<caption>A tibble: 2 × 2</caption>\n",
       "<thead>\n",
       "\t<tr><th scope=col>fraud_bool</th><th scope=col>credit</th></tr>\n",
       "\t<tr><th scope=col>&lt;fct&gt;</th><th scope=col>&lt;dbl&gt;</th></tr>\n",
       "</thead>\n",
       "<tbody>\n",
       "\t<tr><td>0</td><td>180.2160</td></tr>\n",
       "\t<tr><td>1</td><td>206.5281</td></tr>\n",
       "</tbody>\n",
       "</table>\n"
      ],
      "text/latex": [
       "A tibble: 2 × 2\n",
       "\\begin{tabular}{ll}\n",
       " fraud\\_bool & credit\\\\\n",
       " <fct> & <dbl>\\\\\n",
       "\\hline\n",
       "\t 0 & 180.2160\\\\\n",
       "\t 1 & 206.5281\\\\\n",
       "\\end{tabular}\n"
      ],
      "text/markdown": [
       "\n",
       "A tibble: 2 × 2\n",
       "\n",
       "| fraud_bool &lt;fct&gt; | credit &lt;dbl&gt; |\n",
       "|---|---|\n",
       "| 0 | 180.2160 |\n",
       "| 1 | 206.5281 |\n",
       "\n"
      ],
      "text/plain": [
       "  fraud_bool credit  \n",
       "1 0          180.2160\n",
       "2 1          206.5281"
      ]
     },
     "metadata": {},
     "output_type": "display_data"
    },
    {
     "name": "stderr",
     "output_type": "stream",
     "text": [
      "`stat_bin()` using `bins = 30`. Pick better value with `binwidth`.\n",
      "\n",
      "`stat_bin()` using `bins = 30`. Pick better value with `binwidth`.\n",
      "\n"
     ]
    },
    {
     "data": {
      "image/png": "[encoded data removed]",
      "text/plain": [
       "plot without title"
      ]
     },
     "metadata": {
      "image/png": {
       "height": 420,
       "width": 420
      }
     },
     "output_type": "display_data"
    },
    {
     "data": {
      "image/png": "[encoded data removed]",
      "text/plain": [
       "plot without title"
      ]
     },
     "metadata": {
      "image/png": {
       "height": 420,
       "width": 420
      }
     },
     "output_type": "display_data"
    }
   ],
   "source": [
    "average_credit_risk_score <- fraud_train |>\n",
    "    group_by(fraud_bool) |>\n",
    "    summarize(credit = mean(credit_risk_score))\n",
    "\n",
    "average_credit_risk_score\n",
    "\n",
    "credit_risk_score_plot <- ggplot(fraud_train, aes(x = credit_risk_score, fill = fraud_bool)) +\n",
    "  geom_histogram() +\n",
    "  labs(fill = \"Fraudulence\") +\n",
    "  xlab(\"Credit risk score (arbitrary units)\") +\n",
    "  ylab(\"Count\")+\n",
    "  ggtitle(\"Mean credit risk score is higher for fraudulent accounts\")\n",
    "\n",
    "fraud_credit_risk_score_plot <- fraud_narrowed |>\n",
    "  filter(fraud_bool == 1) |>\n",
    "  ggplot(aes(x = credit_risk_score)) +\n",
    "  geom_histogram() +\n",
    "  xlab(\"Credit risk score (arbitrary units)\") +\n",
    "  ylab(\"Count\") + \n",
    "  ggtitle(\"Distribution of credit risk score is similar for non-fraudulent and fraudulent\")\n",
    "\n",
    "credit_risk_score_plot\n",
    "fraud_credit_risk_score_plot"
   ]
  },
  {
   "cell_type": "markdown",
   "id": "28e12ac7-0754-4bfd-8580-d588b94e72ae",
   "metadata": {},
   "source": [
    "**Distribution of Annual Income**"
   ]
  },
  {
   "cell_type": "code",
   "execution_count": 9,
   "id": "b149b453",
   "metadata": {
    "vscode": {
     "languageId": "r"
    }
   },
   "outputs": [
    {
     "data": {
      "text/html": [
       "<table class=\"dataframe\">\n",
       "<caption>A tibble: 2 × 2</caption>\n",
       "<thead>\n",
       "\t<tr><th scope=col>fraud_bool</th><th scope=col>income</th></tr>\n",
       "\t<tr><th scope=col>&lt;fct&gt;</th><th scope=col>&lt;dbl&gt;</th></tr>\n",
       "</thead>\n",
       "<tbody>\n",
       "\t<tr><td>0</td><td>0.6914942</td></tr>\n",
       "\t<tr><td>1</td><td>0.7382450</td></tr>\n",
       "</tbody>\n",
       "</table>\n"
      ],
      "text/latex": [
       "A tibble: 2 × 2\n",
       "\\begin{tabular}{ll}\n",
       " fraud\\_bool & income\\\\\n",
       " <fct> & <dbl>\\\\\n",
       "\\hline\n",
       "\t 0 & 0.6914942\\\\\n",
       "\t 1 & 0.7382450\\\\\n",
       "\\end{tabular}\n"
      ],
      "text/markdown": [
       "\n",
       "A tibble: 2 × 2\n",
       "\n",
       "| fraud_bool &lt;fct&gt; | income &lt;dbl&gt; |\n",
       "|---|---|\n",
       "| 0 | 0.6914942 |\n",
       "| 1 | 0.7382450 |\n",
       "\n"
      ],
      "text/plain": [
       "  fraud_bool income   \n",
       "1 0          0.6914942\n",
       "2 1          0.7382450"
      ]
     },
     "metadata": {},
     "output_type": "display_data"
    },
    {
     "data": {
      "image/png": "[encoded data removed]",
      "text/plain": [
       "plot without title"
      ]
     },
     "metadata": {
      "image/png": {
       "height": 420,
       "width": 420
      }
     },
     "output_type": "display_data"
    },
    {
     "data": {
      "image/png": "[encoded data removed]",
      "text/plain": [
       "plot without title"
      ]
     },
     "metadata": {
      "image/png": {
       "height": 420,
       "width": 420
      }
     },
     "output_type": "display_data"
    }
   ],
   "source": [
    "average_income <- fraud_train |>\n",
    "    group_by(fraud_bool) |>\n",
    "    summarize(income = mean(income))\n",
    "\n",
    "average_income\n",
    "\n",
    "income_plot <- ggplot(fraud_narrowed, aes(x = income, fill = fraud_bool)) +\n",
    "  geom_histogram(binwidth = 0.1) +\n",
    "  labs(fill = \"Fraudulence\") +\n",
    "  xlab(\"Income\") +\n",
    "  ylab(\"Count\") +\n",
    "  facet_grid(rows = vars(fraud_bool)) +\n",
    "  ggtitle(\"Mean income is higher for fraudulent accounts\")\n",
    "\n",
    "fraud_income_plot <- fraud_narrowed |>\n",
    "  filter(fraud_bool == 1) |>\n",
    "  ggplot(aes(x = income)) +\n",
    "  geom_histogram(binwidth = 0.1) +\n",
    "  xlab(\"Income\") +\n",
    "  ylab(\"Count\") + \n",
    "  ggtitle(\"Distribution of income is similar for fraudulent and non-fraudulent\")\n",
    "  \n",
    "\n",
    "income_plot\n",
    "fraud_income_plot"
   ]
  },
  {
   "cell_type": "markdown",
   "id": "480ea8b6-3722-4074-a922-8e6442838ded",
   "metadata": {},
   "source": [
    "**Distribution of Months Lived at Current Address**"
   ]
  },
  {
   "cell_type": "code",
   "execution_count": 10,
   "id": "0b765908",
   "metadata": {
    "vscode": {
     "languageId": "r"
    }
   },
   "outputs": [
    {
     "data": {
      "text/html": [
       "<table class=\"dataframe\">\n",
       "<caption>A tibble: 2 × 2</caption>\n",
       "<thead>\n",
       "\t<tr><th scope=col>fraud_bool</th><th scope=col>address</th></tr>\n",
       "\t<tr><th scope=col>&lt;fct&gt;</th><th scope=col>&lt;dbl&gt;</th></tr>\n",
       "</thead>\n",
       "<tbody>\n",
       "\t<tr><td>0</td><td>108.8403</td></tr>\n",
       "\t<tr><td>1</td><td>111.2798</td></tr>\n",
       "</tbody>\n",
       "</table>\n"
      ],
      "text/latex": [
       "A tibble: 2 × 2\n",
       "\\begin{tabular}{ll}\n",
       " fraud\\_bool & address\\\\\n",
       " <fct> & <dbl>\\\\\n",
       "\\hline\n",
       "\t 0 & 108.8403\\\\\n",
       "\t 1 & 111.2798\\\\\n",
       "\\end{tabular}\n"
      ],
      "text/markdown": [
       "\n",
       "A tibble: 2 × 2\n",
       "\n",
       "| fraud_bool &lt;fct&gt; | address &lt;dbl&gt; |\n",
       "|---|---|\n",
       "| 0 | 108.8403 |\n",
       "| 1 | 111.2798 |\n",
       "\n"
      ],
      "text/plain": [
       "  fraud_bool address \n",
       "1 0          108.8403\n",
       "2 1          111.2798"
      ]
     },
     "metadata": {},
     "output_type": "display_data"
    },
    {
     "data": {
      "image/png": "[encoded data removed]",
      "text/plain": [
       "plot without title"
      ]
     },
     "metadata": {
      "image/png": {
       "height": 420,
       "width": 420
      }
     },
     "output_type": "display_data"
    },
    {
     "data": {
      "image/png": "[encoded data removed]",
      "text/plain": [
       "plot without title"
      ]
     },
     "metadata": {
      "image/png": {
       "height": 420,
       "width": 420
      }
     },
     "output_type": "display_data"
    }
   ],
   "source": [
    "average_address_duration <- fraud_train |>\n",
    "    group_by(fraud_bool) |>\n",
    "    summarize(address = mean(current_address_months_count))\n",
    "\n",
    "average_address_duration\n",
    "\n",
    "address_duration_plot <- ggplot(fraud_train, aes(x = current_address_months_count, fill = fraud_bool)) +\n",
    "  geom_histogram(binwidth = 30) +\n",
    "  labs(fill = \"Fraudulence\") +\n",
    "  xlab(\"Months lived at current address\") +\n",
    "  ylab(\"Count\") +\n",
    "  facet_grid(rows = vars(fraud_bool)) +\n",
    "  ggtitle(\"Distribution of duration stayed at current address\")\n",
    "\n",
    "fraud_address_duration <- fraud_train |>\n",
    "  filter(fraud_bool == 1) |>\n",
    "  ggplot(aes(x = current_address_months_count)) +\n",
    "  geom_histogram(binwidth = 30) +\n",
    "  xlab(\"Months lived at current address\") +\n",
    "  ylab(\"Count\") +\n",
    "  ggtitle(\"Current address duration for fraudulent accounts clustered around 100 months\")\n",
    "\n",
    "address_duration_plot\n",
    "fraud_address_duration"
   ]
  },
  {
   "cell_type": "markdown",
   "id": "08cda27f-5a24-4937-894a-85066d332ee6",
   "metadata": {},
   "source": [
    "**Distribution of Name-Email Similarity**"
   ]
  },
  {
   "cell_type": "code",
   "execution_count": 11,
   "id": "332d8a6f",
   "metadata": {
    "vscode": {
     "languageId": "r"
    }
   },
   "outputs": [
    {
     "data": {
      "text/html": [
       "<table class=\"dataframe\">\n",
       "<caption>A tibble: 2 × 2</caption>\n",
       "<thead>\n",
       "\t<tr><th scope=col>fraud_bool</th><th scope=col>similarity</th></tr>\n",
       "\t<tr><th scope=col>&lt;fct&gt;</th><th scope=col>&lt;dbl&gt;</th></tr>\n",
       "</thead>\n",
       "<tbody>\n",
       "\t<tr><td>0</td><td>0.4965410</td></tr>\n",
       "\t<tr><td>1</td><td>0.3989186</td></tr>\n",
       "</tbody>\n",
       "</table>\n"
      ],
      "text/latex": [
       "A tibble: 2 × 2\n",
       "\\begin{tabular}{ll}\n",
       " fraud\\_bool & similarity\\\\\n",
       " <fct> & <dbl>\\\\\n",
       "\\hline\n",
       "\t 0 & 0.4965410\\\\\n",
       "\t 1 & 0.3989186\\\\\n",
       "\\end{tabular}\n"
      ],
      "text/markdown": [
       "\n",
       "A tibble: 2 × 2\n",
       "\n",
       "| fraud_bool &lt;fct&gt; | similarity &lt;dbl&gt; |\n",
       "|---|---|\n",
       "| 0 | 0.4965410 |\n",
       "| 1 | 0.3989186 |\n",
       "\n"
      ],
      "text/plain": [
       "  fraud_bool similarity\n",
       "1 0          0.4965410 \n",
       "2 1          0.3989186 "
      ]
     },
     "metadata": {},
     "output_type": "display_data"
    },
    {
     "data": {
      "image/png": "[encoded data removed]",
      "text/plain": [
       "plot without title"
      ]
     },
     "metadata": {
      "image/png": {
       "height": 420,
       "width": 420
      }
     },
     "output_type": "display_data"
    },
    {
     "data": {
      "image/png": "[encoded data removed]",
      "text/plain": [
       "plot without title"
      ]
     },
     "metadata": {
      "image/png": {
       "height": 420,
       "width": 420
      }
     },
     "output_type": "display_data"
    }
   ],
   "source": [
    "average_similarity <- fraud_train |>\n",
    "    group_by(fraud_bool) |>\n",
    "    summarize(similarity = mean(name_email_similarity))\n",
    "\n",
    "average_similarity \n",
    "\n",
    "similarity_plot <- ggplot(fraud_train, aes(x = name_email_similarity, fill = fraud_bool)) +\n",
    "  geom_histogram(binwidth = 0.15) +\n",
    "  labs(fill = \"Fraudulence\") +\n",
    "  xlab(\"Name-email similarity (arbitrary units)\") +\n",
    "  ylab(\"Count\") +\n",
    "  facet_grid(rows = vars(fraud_bool)) +\n",
    "  ggtitle(\"Distribution of name-email similarity\")\n",
    "\n",
    "fraud_similarity_duration <- fraud_train |>\n",
    "  filter(fraud_bool == 1) |>\n",
    "  ggplot(aes(x = name_email_similarity)) +\n",
    "  geom_histogram(binwidth = 0.15) +\n",
    "  xlab(\"Name-email similarity (arbitrary units)\") +\n",
    "  ylab(\"Count\") +\n",
    "  ggtitle(\"Most fraudulent accounts have a name-email similarity of around 0.2\")\n",
    "\n",
    "similarity_plot\n",
    "fraud_similarity_duration"
   ]
  },
  {
   "cell_type": "markdown",
   "id": "d7bb501f-3d04-48b1-af22-b37871fe46db",
   "metadata": {},
   "source": [
    "**Distribution of Session Lengths**"
   ]
  },
  {
   "cell_type": "code",
   "execution_count": 12,
   "id": "5a153196",
   "metadata": {
    "vscode": {
     "languageId": "r"
    }
   },
   "outputs": [
    {
     "data": {
      "text/html": [
       "<table class=\"dataframe\">\n",
       "<caption>A tibble: 2 × 2</caption>\n",
       "<thead>\n",
       "\t<tr><th scope=col>fraud_bool</th><th scope=col>session_length</th></tr>\n",
       "\t<tr><th scope=col>&lt;fct&gt;</th><th scope=col>&lt;dbl&gt;</th></tr>\n",
       "</thead>\n",
       "<tbody>\n",
       "\t<tr><td>0</td><td>5.886810</td></tr>\n",
       "\t<tr><td>1</td><td>7.125959</td></tr>\n",
       "</tbody>\n",
       "</table>\n"
      ],
      "text/latex": [
       "A tibble: 2 × 2\n",
       "\\begin{tabular}{ll}\n",
       " fraud\\_bool & session\\_length\\\\\n",
       " <fct> & <dbl>\\\\\n",
       "\\hline\n",
       "\t 0 & 5.886810\\\\\n",
       "\t 1 & 7.125959\\\\\n",
       "\\end{tabular}\n"
      ],
      "text/markdown": [
       "\n",
       "A tibble: 2 × 2\n",
       "\n",
       "| fraud_bool &lt;fct&gt; | session_length &lt;dbl&gt; |\n",
       "|---|---|\n",
       "| 0 | 5.886810 |\n",
       "| 1 | 7.125959 |\n",
       "\n"
      ],
      "text/plain": [
       "  fraud_bool session_length\n",
       "1 0          5.886810      \n",
       "2 1          7.125959      "
      ]
     },
     "metadata": {},
     "output_type": "display_data"
    },
    {
     "data": {
      "image/png": "[encoded data removed]",
      "text/plain": [
       "plot without title"
      ]
     },
     "metadata": {
      "image/png": {
       "height": 420,
       "width": 420
      }
     },
     "output_type": "display_data"
    },
    {
     "data": {
      "image/png": "[encoded data removed]",
      "text/plain": [
       "plot without title"
      ]
     },
     "metadata": {
      "image/png": {
       "height": 420,
       "width": 420
      }
     },
     "output_type": "display_data"
    }
   ],
   "source": [
    "average_session <- fraud_train |>\n",
    "    group_by(fraud_bool) |>\n",
    "    summarize(session_length = mean(session_length_in_minutes))\n",
    "\n",
    "average_session\n",
    "\n",
    "session_plot <- ggplot(fraud_train, aes(x = session_length_in_minutes, fill = fraud_bool)) +\n",
    "  geom_histogram(binwidth = 3) +\n",
    "  labs(fill = \"Fraudulence\") +\n",
    "  xlab(\"Session length (minutes)\") +\n",
    "  ylab(\"Count\") +\n",
    "  facet_grid(rows = vars(fraud_bool)) +\n",
    "  ggtitle(\"Distribution of session length\")\n",
    "\n",
    "fraud_session_duration <- fraud_train |>\n",
    "  filter(fraud_bool == 1) |>\n",
    "  ggplot(aes(x = session_length_in_minutes)) +\n",
    "  geom_histogram(binwidth = 3) +\n",
    "  xlab(\"Session length (minutes)\") +\n",
    "  ylab(\"Count\") +\n",
    "  ggtitle(\"Similar distributions for fraudulent and legitimate\")\n",
    "\n",
    "session_plot\n",
    "fraud_session_duration"
   ]
  },
  {
   "cell_type": "markdown",
   "id": "0c9d2cda-13b5-4c18-a75f-6cb617e0ec6d",
   "metadata": {},
   "source": [
    "**Distribution of Proposed Credit Limit**"
   ]
  },
  {
   "cell_type": "code",
   "execution_count": 13,
   "id": "0eb0230c",
   "metadata": {
    "vscode": {
     "languageId": "r"
    }
   },
   "outputs": [
    {
     "data": {
      "text/html": [
       "<table class=\"dataframe\">\n",
       "<caption>A tibble: 2 × 2</caption>\n",
       "<thead>\n",
       "\t<tr><th scope=col>fraud_bool</th><th scope=col>proposed_credit_limit</th></tr>\n",
       "\t<tr><th scope=col>&lt;fct&gt;</th><th scope=col>&lt;dbl&gt;</th></tr>\n",
       "</thead>\n",
       "<tbody>\n",
       "\t<tr><td>0</td><td>716.1710</td></tr>\n",
       "\t<tr><td>1</td><td>970.3311</td></tr>\n",
       "</tbody>\n",
       "</table>\n"
      ],
      "text/latex": [
       "A tibble: 2 × 2\n",
       "\\begin{tabular}{ll}\n",
       " fraud\\_bool & proposed\\_credit\\_limit\\\\\n",
       " <fct> & <dbl>\\\\\n",
       "\\hline\n",
       "\t 0 & 716.1710\\\\\n",
       "\t 1 & 970.3311\\\\\n",
       "\\end{tabular}\n"
      ],
      "text/markdown": [
       "\n",
       "A tibble: 2 × 2\n",
       "\n",
       "| fraud_bool &lt;fct&gt; | proposed_credit_limit &lt;dbl&gt; |\n",
       "|---|---|\n",
       "| 0 | 716.1710 |\n",
       "| 1 | 970.3311 |\n",
       "\n"
      ],
      "text/plain": [
       "  fraud_bool proposed_credit_limit\n",
       "1 0          716.1710             \n",
       "2 1          970.3311             "
      ]
     },
     "metadata": {},
     "output_type": "display_data"
    },
    {
     "data": {
      "image/png": "[encoded data removed]",
      "text/plain": [
       "plot without title"
      ]
     },
     "metadata": {
      "image/png": {
       "height": 420,
       "width": 420
      }
     },
     "output_type": "display_data"
    },
    {
     "data": {
      "image/png": "[encoded data removed]",
      "text/plain": [
       "plot without title"
      ]
     },
     "metadata": {
      "image/png": {
       "height": 420,
       "width": 420
      }
     },
     "output_type": "display_data"
    }
   ],
   "source": [
    "average_proposed_credit_limit <- fraud_train |>\n",
    "    group_by(fraud_bool) |>\n",
    "    summarize(proposed_credit_limit = mean(proposed_credit_limit))\n",
    "\n",
    "proposed_credit_limit_plot <- ggplot(fraud_train, aes(x = proposed_credit_limit, fill = fraud_bool)) +\n",
    "  geom_histogram(binwidth = 200) +\n",
    "  labs(fill = \"Fraudulence\") +\n",
    "  xlab(\"Proposed credit limit (arbitrary units)\") +\n",
    "  ylab(\"Count\") +\n",
    "  facet_grid(rows = vars(fraud_bool)) +\n",
    "  ggtitle(\"Distribution of proposed credit limits\")\n",
    "\n",
    "fraud_proposed_credit_limit <- fraud_train |>\n",
    "  filter(fraud_bool == 1) |>\n",
    "  ggplot(aes(x = proposed_credit_limit)) +\n",
    "  geom_histogram(binwidth = 200) +\n",
    "  xlab(\"Proposed credit limit (arbitrary units)\") +\n",
    "  ylab(\"Count\") +\n",
    "  ggtitle(\"Fraudulent proposed credit limits tend more to be at the extreme ends\")\n",
    "\n",
    "average_proposed_credit_limit\n",
    "proposed_credit_limit_plot\n",
    "fraud_proposed_credit_limit"
   ]
  },
  {
   "cell_type": "markdown",
   "id": "2abcbdbd",
   "metadata": {},
   "source": [
    "**Insights from the preliminary data exploration:**\n",
    "\n",
    "- Fraudulent and legitimate bank accounts have similar distributions for session length, credit risk score, and income\n",
    "- But, they differ for the other 3 variables: months lived at current address, name-email similarity, and proposed credit limit.\n",
    "\n",
    "Thus, we decided to proceed forward selection with these 3 variables:\n",
    "\n",
    "- Months lived at current address\n",
    "- Name-email similarity\n",
    "- Proposed credit limit\n",
    "\n",
    "We also learned that legitimate bank accounts (95%) far outnumber fraudulent bank accounts (5%), **so class balancing might be required.**"
   ]
  },
  {
   "cell_type": "markdown",
   "id": "250686ce-0a6c-489d-93e6-b9142ea20dd1",
   "metadata": {},
   "source": [
    "### 5. Class Balancing\n",
    "We accounted for the rarity of fraudulent accounts by oversampling fraudulent accounts. We tentatively set the oversampling ratio as 0.25 so that a reasonable amount of computational power would be needed for the next steps."
   ]
  },
  {
   "cell_type": "code",
   "execution_count": 14,
   "id": "b6722118-1349-47fc-bd69-5df5ad503504",
   "metadata": {},
   "outputs": [
    {
     "data": {
      "text/html": [
       "<table class=\"dataframe\">\n",
       "<caption>A tibble: 2 × 2</caption>\n",
       "<thead>\n",
       "\t<tr><th scope=col>fraud_bool</th><th scope=col>n</th></tr>\n",
       "\t<tr><th scope=col>&lt;fct&gt;</th><th scope=col>&lt;int&gt;</th></tr>\n",
       "</thead>\n",
       "<tbody>\n",
       "\t<tr><td>0</td><td>10922</td></tr>\n",
       "\t<tr><td>1</td><td> 2730</td></tr>\n",
       "</tbody>\n",
       "</table>\n"
      ],
      "text/latex": [
       "A tibble: 2 × 2\n",
       "\\begin{tabular}{ll}\n",
       " fraud\\_bool & n\\\\\n",
       " <fct> & <int>\\\\\n",
       "\\hline\n",
       "\t 0 & 10922\\\\\n",
       "\t 1 &  2730\\\\\n",
       "\\end{tabular}\n"
      ],
      "text/markdown": [
       "\n",
       "A tibble: 2 × 2\n",
       "\n",
       "| fraud_bool &lt;fct&gt; | n &lt;int&gt; |\n",
       "|---|---|\n",
       "| 0 | 10922 |\n",
       "| 1 |  2730 |\n",
       "\n"
      ],
      "text/plain": [
       "  fraud_bool n    \n",
       "1 0          10922\n",
       "2 1           2730"
      ]
     },
     "metadata": {},
     "output_type": "display_data"
    }
   ],
   "source": [
    "ups_recipe <- recipe(fraud_bool ~ ., data = fraud_train) |>\n",
    "  step_upsample(fraud_bool, over_ratio = 0.25, skip = FALSE) |>\n",
    "  prep()\n",
    "\n",
    "upsampled_fraud <- bake(ups_recipe, fraud_train)\n",
    "\n",
    "upsampled_fraud |>\n",
    "  group_by(fraud_bool) |>\n",
    "  summarize(n = n())"
   ]
  },
  {
   "cell_type": "markdown",
   "id": "0f1c689d",
   "metadata": {},
   "source": [
    "### 6. Predictor variable selection with data preprocessing\n",
    "\n",
    "On the aforementioned 3 variables, we used forward selection algorithm together with recipes that scaled and balanced the data. We chose 2 folds for cross-validation to again keep the computational power requirement reasonable."
   ]
  },
  {
   "cell_type": "code",
   "execution_count": 15,
   "id": "a1ab49df",
   "metadata": {
    "vscode": {
     "languageId": "r"
    }
   },
   "outputs": [],
   "source": [
    "fraud_subset <- upsampled_fraud |>\n",
    "    select(fraud_bool, current_address_months_count, name_email_similarity,  proposed_credit_limit)\n",
    "\n",
    "# names <- colnames(fraud_subset |> select(-fraud_bool))\n",
    "\n",
    "# accuracies <- tibble(\n",
    "#     size = integer(),\n",
    "#     model_string = character(),\n",
    "#     accuracy = numeric()\n",
    "# )\n",
    "\n",
    "# knn_spec <- nearest_neighbor(\n",
    "#     weight_func = \"rectangular\",\n",
    "#     neighbors = tune()\n",
    "# ) |>\n",
    "#     set_engine(\"kknn\") |>\n",
    "#     set_mode(\"classification\")\n",
    "\n",
    "# fraud_vfold <- vfold_cv(fraud_subset, v = 2, strata = fraud_bool)\n",
    "\n",
    "# n_total <- length(names)\n",
    "\n",
    "# selected <- c()\n",
    "\n",
    "# for (i in 1:n_total) {\n",
    "#     # for every predictor still not added yet\n",
    "#     accs <- list()\n",
    "#     models <- list()\n",
    "#     for (j in 1:length(names)) {\n",
    "#         # create a model string for this combination of predictors\n",
    "#         preds_new <- c(selected, names[[j]])\n",
    "#         model_string <- paste(\"fraud_bool\", \"~\", paste(preds_new, collapse = \"+\"))\n",
    "\n",
    "#         # create a recipe from the model string\n",
    "#         fraud_recipe <- recipe(as.formula(model_string),\n",
    "#             data = fraud_subset) |>\n",
    "#             step_scale(all_predictors()) |>\n",
    "#             step_center(all_predictors())\n",
    "\n",
    "#         # tune the KNN classifier with these predictors,\n",
    "#         # and collect the accuracy for the best K\n",
    "#         acc <- workflow() |>\n",
    "#             add_recipe(fraud_recipe) |>\n",
    "#             add_model(knn_spec) |>\n",
    "#             tune_grid(resamples = fraud_vfold, grid = 5) |>\n",
    "#             collect_metrics() |>\n",
    "#             filter(.metric == \"accuracy\") |>\n",
    "#             summarize(mx = max(mean))\n",
    "#         acc <- acc$mx |> unlist()\n",
    "\n",
    "#         # add this result to the dataframe\n",
    "#         accs[[j]] <- acc\n",
    "#         models[[j]] <- model_string\n",
    "#     }\n",
    "#     jstar <- which.max(unlist(accs))\n",
    "#     accuracies <- accuracies |>\n",
    "#         add_row(\n",
    "#             size = i,\n",
    "#             model_string = models[[jstar]],\n",
    "#             accuracy = accs[[jstar]]\n",
    "#         )\n",
    "#     selected <- c(selected, names[[jstar]])\n",
    "#     names <- names[-jstar]\n",
    "# }\n",
    "\n",
    "# accuracies_arranged <- accuracies |>\n",
    "#     arrange(desc(accuracy))\n",
    "\n",
    "# accuracies_arranged"
   ]
  },
  {
   "cell_type": "markdown",
   "id": "b8277d41-6dab-4ed1-96ca-c89c984567c3",
   "metadata": {},
   "source": [
    "The forward selection algorithm results tell us that using all 3 predictor variables would be the best choice, as the accuracy estimate is the highest at 93.4%. However, it also looks like the accuracy difference between different choices of predictor variables is small and may be negligible."
   ]
  },
  {
   "cell_type": "markdown",
   "id": "79f3aa4c-e81b-4ac7-a85f-a2c3cc53beb5",
   "metadata": {},
   "source": [
    "### 7. Model tuning\n",
    "\n",
    "First, we specified a recipe to scale and center the data. \n",
    "\n",
    "Second, we created a KNN model for tuning purposes, then used 5-fold cross-validation to tune the model. \n",
    "\n",
    "Lastly, we visualized the results and picked the best K-value. \n"
   ]
  },
  {
   "cell_type": "code",
   "execution_count": 16,
   "id": "95caa3e5-f107-46c5-affe-cad4823484fc",
   "metadata": {},
   "outputs": [
    {
     "data": {
      "text/html": [
       "<table class=\"dataframe\">\n",
       "<caption>A tibble: 8 × 7</caption>\n",
       "<thead>\n",
       "\t<tr><th scope=col>neighbors</th><th scope=col>.metric</th><th scope=col>.estimator</th><th scope=col>mean</th><th scope=col>n</th><th scope=col>std_err</th><th scope=col>.config</th></tr>\n",
       "\t<tr><th scope=col>&lt;int&gt;</th><th scope=col>&lt;chr&gt;</th><th scope=col>&lt;chr&gt;</th><th scope=col>&lt;dbl&gt;</th><th scope=col>&lt;int&gt;</th><th scope=col>&lt;dbl&gt;</th><th scope=col>&lt;chr&gt;</th></tr>\n",
       "</thead>\n",
       "<tbody>\n",
       "\t<tr><td>1</td><td>accuracy</td><td>binary</td><td>0.9682829</td><td>5</td><td>0.001815903</td><td>Preprocessor1_Model1</td></tr>\n",
       "\t<tr><td>3</td><td>accuracy</td><td>binary</td><td>0.9141522</td><td>5</td><td>0.002846883</td><td>Preprocessor1_Model2</td></tr>\n",
       "\t<tr><td>5</td><td>accuracy</td><td>binary</td><td>0.8697635</td><td>5</td><td>0.003459369</td><td>Preprocessor1_Model3</td></tr>\n",
       "\t<tr><td>⋮</td><td>⋮</td><td>⋮</td><td>⋮</td><td>⋮</td><td>⋮</td><td>⋮</td></tr>\n",
       "\t<tr><td>10</td><td>accuracy</td><td>binary</td><td>0.8268387</td><td>5</td><td>0.001711389</td><td>Preprocessor1_Model6</td></tr>\n",
       "\t<tr><td>12</td><td>accuracy</td><td>binary</td><td>0.8199535</td><td>5</td><td>0.002000481</td><td>Preprocessor1_Model7</td></tr>\n",
       "\t<tr><td>14</td><td>accuracy</td><td>binary</td><td>0.8180484</td><td>5</td><td>0.002959317</td><td>Preprocessor1_Model8</td></tr>\n",
       "</tbody>\n",
       "</table>\n"
      ],
      "text/latex": [
       "A tibble: 8 × 7\n",
       "\\begin{tabular}{lllllll}\n",
       " neighbors & .metric & .estimator & mean & n & std\\_err & .config\\\\\n",
       " <int> & <chr> & <chr> & <dbl> & <int> & <dbl> & <chr>\\\\\n",
       "\\hline\n",
       "\t 1 & accuracy & binary & 0.9682829 & 5 & 0.001815903 & Preprocessor1\\_Model1\\\\\n",
       "\t 3 & accuracy & binary & 0.9141522 & 5 & 0.002846883 & Preprocessor1\\_Model2\\\\\n",
       "\t 5 & accuracy & binary & 0.8697635 & 5 & 0.003459369 & Preprocessor1\\_Model3\\\\\n",
       "\t ⋮ & ⋮ & ⋮ & ⋮ & ⋮ & ⋮ & ⋮\\\\\n",
       "\t 10 & accuracy & binary & 0.8268387 & 5 & 0.001711389 & Preprocessor1\\_Model6\\\\\n",
       "\t 12 & accuracy & binary & 0.8199535 & 5 & 0.002000481 & Preprocessor1\\_Model7\\\\\n",
       "\t 14 & accuracy & binary & 0.8180484 & 5 & 0.002959317 & Preprocessor1\\_Model8\\\\\n",
       "\\end{tabular}\n"
      ],
      "text/markdown": [
       "\n",
       "A tibble: 8 × 7\n",
       "\n",
       "| neighbors &lt;int&gt; | .metric &lt;chr&gt; | .estimator &lt;chr&gt; | mean &lt;dbl&gt; | n &lt;int&gt; | std_err &lt;dbl&gt; | .config &lt;chr&gt; |\n",
       "|---|---|---|---|---|---|---|\n",
       "| 1 | accuracy | binary | 0.9682829 | 5 | 0.001815903 | Preprocessor1_Model1 |\n",
       "| 3 | accuracy | binary | 0.9141522 | 5 | 0.002846883 | Preprocessor1_Model2 |\n",
       "| 5 | accuracy | binary | 0.8697635 | 5 | 0.003459369 | Preprocessor1_Model3 |\n",
       "| ⋮ | ⋮ | ⋮ | ⋮ | ⋮ | ⋮ | ⋮ |\n",
       "| 10 | accuracy | binary | 0.8268387 | 5 | 0.001711389 | Preprocessor1_Model6 |\n",
       "| 12 | accuracy | binary | 0.8199535 | 5 | 0.002000481 | Preprocessor1_Model7 |\n",
       "| 14 | accuracy | binary | 0.8180484 | 5 | 0.002959317 | Preprocessor1_Model8 |\n",
       "\n"
      ],
      "text/plain": [
       "  neighbors .metric  .estimator mean      n std_err     .config             \n",
       "1 1         accuracy binary     0.9682829 5 0.001815903 Preprocessor1_Model1\n",
       "2 3         accuracy binary     0.9141522 5 0.002846883 Preprocessor1_Model2\n",
       "3 5         accuracy binary     0.8697635 5 0.003459369 Preprocessor1_Model3\n",
       "⋮ ⋮         ⋮        ⋮          ⋮         ⋮ ⋮           ⋮                   \n",
       "6 10        accuracy binary     0.8268387 5 0.001711389 Preprocessor1_Model6\n",
       "7 12        accuracy binary     0.8199535 5 0.002000481 Preprocessor1_Model7\n",
       "8 14        accuracy binary     0.8180484 5 0.002959317 Preprocessor1_Model8"
      ]
     },
     "metadata": {},
     "output_type": "display_data"
    }
   ],
   "source": [
    "fraud_recipe <- recipe(fraud_bool ~ name_email_similarity + proposed_credit_limit + current_address_months_count, data = fraud_subset) |>\n",
    "  step_scale(all_predictors()) |>\n",
    "  step_center(all_predictors())\n",
    "\n",
    "tune_spec <- nearest_neighbor(weight_func = \"rectangular\", neighbors = tune()) |>\n",
    "  set_engine(\"kknn\") |>\n",
    "  set_mode(\"classification\")\n",
    "\n",
    "tune_vfold <- vfold_cv(fraud_subset, v = 5, strata = fraud_bool)\n",
    "\n",
    "knn_results <- workflow() |>\n",
    "  add_recipe(fraud_recipe) |>\n",
    "  add_model(tune_spec) |>\n",
    "  tune_grid(resamples = tune_vfold, grid = 10) |>\n",
    "  collect_metrics() \n",
    "\n",
    "accuracies <- knn_results |>\n",
    "  filter(.metric == \"accuracy\")\n",
    "\n",
    "accuracies"
   ]
  },
  {
   "cell_type": "code",
   "execution_count": 17,
   "id": "1166c80e-71ba-4012-8a47-a6e53d16723a",
   "metadata": {},
   "outputs": [
    {
     "data": {
      "image/png": "[encoded data removed]",
      "text/plain": [
       "plot without title"
      ]
     },
     "metadata": {
      "image/png": {
       "height": 420,
       "width": 420
      }
     },
     "output_type": "display_data"
    }
   ],
   "source": [
    "accuracy_vs_k <- ggplot(accuracies, aes(x = neighbors, y = mean)) +\n",
    "  geom_point() +\n",
    "  geom_line() +\n",
    "  labs(x = \"Neighbors\", y = \"Accuracy Estimate\") + \n",
    "  theme(text = element_text(size = 12)) +\n",
    "  scale_x_continuous(breaks=seq(0,14,1))\n",
    "\n",
    "accuracy_vs_k"
   ]
  },
  {
   "cell_type": "markdown",
   "id": "7e0598d4-2f7b-43e7-a95d-69bae3729332",
   "metadata": {},
   "source": [
    "Looking at the curve, we saw that **K=1** is the best K-value, as it yields the highest accuracy estimate."
   ]
  },
  {
   "cell_type": "markdown",
   "id": "578a6ad4-580d-4ba9-b372-038e7031910b",
   "metadata": {},
   "source": [
    "### 8. Obtaining best K-value model\n",
    "\n",
    "Knowing that the two ideal predictor variables are all 3 variables, and that the best K-value is 1, we trained the best K-value model:"
   ]
  },
  {
   "cell_type": "code",
   "execution_count": 18,
   "id": "0cd7f434-4f4a-47c5-8b1c-15b059c4f06f",
   "metadata": {},
   "outputs": [
    {
     "data": {
      "text/plain": [
       "══ Workflow [trained] ══════════════════════════════════════════════════════════\n",
       "\u001b[3mPreprocessor:\u001b[23m Recipe\n",
       "\u001b[3mModel:\u001b[23m nearest_neighbor()\n",
       "\n",
       "── Preprocessor ────────────────────────────────────────────────────────────────\n",
       "2 Recipe Steps\n",
       "\n",
       "• step_scale()\n",
       "• step_center()\n",
       "\n",
       "── Model ───────────────────────────────────────────────────────────────────────\n",
       "\n",
       "Call:\n",
       "kknn::train.kknn(formula = ..y ~ ., data = data, ks = min_rows(1,     data, 5), kernel = ~\"rectangular\")\n",
       "\n",
       "Type of response variable: nominal\n",
       "Minimal misclassification: 0.02307354\n",
       "Best kernel: rectangular\n",
       "Best k: 1"
      ]
     },
     "metadata": {},
     "output_type": "display_data"
    }
   ],
   "source": [
    "knn_spec <- nearest_neighbor(weight_func = \"rectangular\", neighbors = 1) |>\n",
    "  set_engine(\"kknn\") |>\n",
    "  set_mode(\"classification\")\n",
    "\n",
    "knn_fit <- workflow() |>\n",
    "  add_recipe(fraud_recipe) |>\n",
    "  add_model(knn_spec) |>\n",
    "  fit(data = fraud_subset)\n",
    "\n",
    "knn_fit"
   ]
  },
  {
   "cell_type": "markdown",
   "id": "e87b6241-fa81-40c1-9cc3-c0d49ab503fc",
   "metadata": {},
   "source": [
    "## Results\n",
    "Using the best K-value model, we predicted the fraudulence labels of the testing dataset in order to find out the accuracy of the model."
   ]
  },
  {
   "cell_type": "code",
   "execution_count": 19,
   "id": "80b863f7-d6ab-4137-82cb-98178b3edec4",
   "metadata": {},
   "outputs": [
    {
     "data": {
      "text/html": [
       "<table class=\"dataframe\">\n",
       "<caption>A tibble: 3843 × 8</caption>\n",
       "<thead>\n",
       "\t<tr><th scope=col>.pred_class</th><th scope=col>fraud_bool</th><th scope=col>credit_risk_score</th><th scope=col>income</th><th scope=col>current_address_months_count</th><th scope=col>name_email_similarity</th><th scope=col>session_length_in_minutes</th><th scope=col>proposed_credit_limit</th></tr>\n",
       "\t<tr><th scope=col>&lt;fct&gt;</th><th scope=col>&lt;fct&gt;</th><th scope=col>&lt;dbl&gt;</th><th scope=col>&lt;dbl&gt;</th><th scope=col>&lt;dbl&gt;</th><th scope=col>&lt;dbl&gt;</th><th scope=col>&lt;dbl&gt;</th><th scope=col>&lt;dbl&gt;</th></tr>\n",
       "</thead>\n",
       "<tbody>\n",
       "\t<tr><td>0</td><td>1</td><td>110</td><td>0.9</td><td> 22</td><td>0.1595112</td><td>2.047904</td><td>200</td></tr>\n",
       "\t<tr><td>0</td><td>1</td><td>220</td><td>0.9</td><td>162</td><td>0.6115532</td><td>3.531939</td><td>200</td></tr>\n",
       "\t<tr><td>0</td><td>1</td><td>143</td><td>0.9</td><td>186</td><td>0.1254526</td><td>3.070971</td><td>200</td></tr>\n",
       "\t<tr><td>⋮</td><td>⋮</td><td>⋮</td><td>⋮</td><td>⋮</td><td>⋮</td><td>⋮</td><td>⋮</td></tr>\n",
       "\t<tr><td>0</td><td>0</td><td> 46</td><td>0.8</td><td>137</td><td>0.02774166</td><td>2.463003</td><td> 200</td></tr>\n",
       "\t<tr><td>0</td><td>0</td><td>179</td><td>0.9</td><td>134</td><td>0.68913946</td><td>2.310369</td><td> 500</td></tr>\n",
       "\t<tr><td>0</td><td>0</td><td>234</td><td>0.9</td><td>  3</td><td>0.50941196</td><td>2.943703</td><td>1000</td></tr>\n",
       "</tbody>\n",
       "</table>\n"
      ],
      "text/latex": [
       "A tibble: 3843 × 8\n",
       "\\begin{tabular}{llllllll}\n",
       " .pred\\_class & fraud\\_bool & credit\\_risk\\_score & income & current\\_address\\_months\\_count & name\\_email\\_similarity & session\\_length\\_in\\_minutes & proposed\\_credit\\_limit\\\\\n",
       " <fct> & <fct> & <dbl> & <dbl> & <dbl> & <dbl> & <dbl> & <dbl>\\\\\n",
       "\\hline\n",
       "\t 0 & 1 & 110 & 0.9 &  22 & 0.1595112 & 2.047904 & 200\\\\\n",
       "\t 0 & 1 & 220 & 0.9 & 162 & 0.6115532 & 3.531939 & 200\\\\\n",
       "\t 0 & 1 & 143 & 0.9 & 186 & 0.1254526 & 3.070971 & 200\\\\\n",
       "\t ⋮ & ⋮ & ⋮ & ⋮ & ⋮ & ⋮ & ⋮ & ⋮\\\\\n",
       "\t 0 & 0 &  46 & 0.8 & 137 & 0.02774166 & 2.463003 &  200\\\\\n",
       "\t 0 & 0 & 179 & 0.9 & 134 & 0.68913946 & 2.310369 &  500\\\\\n",
       "\t 0 & 0 & 234 & 0.9 &   3 & 0.50941196 & 2.943703 & 1000\\\\\n",
       "\\end{tabular}\n"
      ],
      "text/markdown": [
       "\n",
       "A tibble: 3843 × 8\n",
       "\n",
       "| .pred_class &lt;fct&gt; | fraud_bool &lt;fct&gt; | credit_risk_score &lt;dbl&gt; | income &lt;dbl&gt; | current_address_months_count &lt;dbl&gt; | name_email_similarity &lt;dbl&gt; | session_length_in_minutes &lt;dbl&gt; | proposed_credit_limit &lt;dbl&gt; |\n",
       "|---|---|---|---|---|---|---|---|\n",
       "| 0 | 1 | 110 | 0.9 |  22 | 0.1595112 | 2.047904 | 200 |\n",
       "| 0 | 1 | 220 | 0.9 | 162 | 0.6115532 | 3.531939 | 200 |\n",
       "| 0 | 1 | 143 | 0.9 | 186 | 0.1254526 | 3.070971 | 200 |\n",
       "| ⋮ | ⋮ | ⋮ | ⋮ | ⋮ | ⋮ | ⋮ | ⋮ |\n",
       "| 0 | 0 |  46 | 0.8 | 137 | 0.02774166 | 2.463003 |  200 |\n",
       "| 0 | 0 | 179 | 0.9 | 134 | 0.68913946 | 2.310369 |  500 |\n",
       "| 0 | 0 | 234 | 0.9 |   3 | 0.50941196 | 2.943703 | 1000 |\n",
       "\n"
      ],
      "text/plain": [
       "     .pred_class fraud_bool credit_risk_score income\n",
       "1    0           1          110               0.9   \n",
       "2    0           1          220               0.9   \n",
       "3    0           1          143               0.9   \n",
       "⋮    ⋮           ⋮          ⋮                 ⋮     \n",
       "3841 0           0           46               0.8   \n",
       "3842 0           0          179               0.9   \n",
       "3843 0           0          234               0.9   \n",
       "     current_address_months_count name_email_similarity\n",
       "1     22                          0.1595112            \n",
       "2    162                          0.6115532            \n",
       "3    186                          0.1254526            \n",
       "⋮    ⋮                            ⋮                    \n",
       "3841 137                          0.02774166           \n",
       "3842 134                          0.68913946           \n",
       "3843   3                          0.50941196           \n",
       "     session_length_in_minutes proposed_credit_limit\n",
       "1    2.047904                  200                  \n",
       "2    3.531939                  200                  \n",
       "3    3.070971                  200                  \n",
       "⋮    ⋮                         ⋮                    \n",
       "3841 2.463003                   200                 \n",
       "3842 2.310369                   500                 \n",
       "3843 2.943703                  1000                 "
      ]
     },
     "metadata": {},
     "output_type": "display_data"
    },
    {
     "data": {
      "text/html": [
       "<table class=\"dataframe\">\n",
       "<caption>A tibble: 1 × 3</caption>\n",
       "<thead>\n",
       "\t<tr><th scope=col>.metric</th><th scope=col>.estimator</th><th scope=col>.estimate</th></tr>\n",
       "\t<tr><th scope=col>&lt;chr&gt;</th><th scope=col>&lt;chr&gt;</th><th scope=col>&lt;dbl&gt;</th></tr>\n",
       "</thead>\n",
       "<tbody>\n",
       "\t<tr><td>accuracy</td><td>binary</td><td>0.8953942</td></tr>\n",
       "</tbody>\n",
       "</table>\n"
      ],
      "text/latex": [
       "A tibble: 1 × 3\n",
       "\\begin{tabular}{lll}\n",
       " .metric & .estimator & .estimate\\\\\n",
       " <chr> & <chr> & <dbl>\\\\\n",
       "\\hline\n",
       "\t accuracy & binary & 0.8953942\\\\\n",
       "\\end{tabular}\n"
      ],
      "text/markdown": [
       "\n",
       "A tibble: 1 × 3\n",
       "\n",
       "| .metric &lt;chr&gt; | .estimator &lt;chr&gt; | .estimate &lt;dbl&gt; |\n",
       "|---|---|---|\n",
       "| accuracy | binary | 0.8953942 |\n",
       "\n"
      ],
      "text/plain": [
       "  .metric  .estimator .estimate\n",
       "1 accuracy binary     0.8953942"
      ]
     },
     "metadata": {},
     "output_type": "display_data"
    }
   ],
   "source": [
    "fraud_test_predictions <- predict(knn_fit, fraud_test) |>\n",
    "  bind_cols(fraud_test)\n",
    "\n",
    "fraud_test_predictions\n",
    "\n",
    "fraud_accuracy <- fraud_test_predictions |>\n",
    "  metrics(truth = fraud_bool, estimate = .pred_class) |>\n",
    "  filter(.metric == \"accuracy\")\n",
    "fraud_accuracy"
   ]
  },
  {
   "cell_type": "markdown",
   "id": "ce0cd173-8737-4a83-91b2-6845a370689e",
   "metadata": {},
   "source": [
    "### 9. Model specification, usage, and evaluation"
   ]
  },
  {
   "cell_type": "markdown",
   "id": "217dd2cf-90d9-49ee-aacc-e3cdbc9ee9d0",
   "metadata": {},
   "source": [
    "To begin, we compared the accuracy of our classifier to the majority classifier."
   ]
  },
  {
   "cell_type": "code",
   "execution_count": 20,
   "id": "7574502f-c2e9-4ce8-ab75-4a3cce4e9949",
   "metadata": {},
   "outputs": [
    {
     "data": {
      "text/html": [
       "<table class=\"dataframe\">\n",
       "<caption>A tibble: 2 × 3</caption>\n",
       "<thead>\n",
       "\t<tr><th scope=col>fraud_bool</th><th scope=col>n</th><th scope=col>percent</th></tr>\n",
       "\t<tr><th scope=col>&lt;fct&gt;</th><th scope=col>&lt;int&gt;</th><th scope=col>&lt;dbl&gt;</th></tr>\n",
       "</thead>\n",
       "<tbody>\n",
       "\t<tr><td>0</td><td>10922</td><td>80.00293</td></tr>\n",
       "\t<tr><td>1</td><td> 2730</td><td>19.99707</td></tr>\n",
       "</tbody>\n",
       "</table>\n"
      ],
      "text/latex": [
       "A tibble: 2 × 3\n",
       "\\begin{tabular}{lll}\n",
       " fraud\\_bool & n & percent\\\\\n",
       " <fct> & <int> & <dbl>\\\\\n",
       "\\hline\n",
       "\t 0 & 10922 & 80.00293\\\\\n",
       "\t 1 &  2730 & 19.99707\\\\\n",
       "\\end{tabular}\n"
      ],
      "text/markdown": [
       "\n",
       "A tibble: 2 × 3\n",
       "\n",
       "| fraud_bool &lt;fct&gt; | n &lt;int&gt; | percent &lt;dbl&gt; |\n",
       "|---|---|---|\n",
       "| 0 | 10922 | 80.00293 |\n",
       "| 1 |  2730 | 19.99707 |\n",
       "\n"
      ],
      "text/plain": [
       "  fraud_bool n     percent \n",
       "1 0          10922 80.00293\n",
       "2 1           2730 19.99707"
      ]
     },
     "metadata": {},
     "output_type": "display_data"
    }
   ],
   "source": [
    "majority_classifier <- upsampled_fraud |>\n",
    "                      group_by(fraud_bool) |>\n",
    "                      summarize(n = n()) |>\n",
    "                      mutate(percent = 100*n/nrow(upsampled_fraud))\n",
    "majority_classifier\n",
    "\n"
   ]
  },
  {
   "cell_type": "markdown",
   "id": "cd700f97-54db-4ab5-8720-5faf2d01222c",
   "metadata": {},
   "source": [
    "We saw our classifier has a higher accuracy of 90% compared to the 80% of the majority classifier. Next, we looked at the confusion matrix of our classifier."
   ]
  },
  {
   "cell_type": "code",
   "execution_count": 21,
   "id": "93c087d7-1d2c-4e44-bd47-61dc5a7cb967",
   "metadata": {},
   "outputs": [
    {
     "name": "stderr",
     "output_type": "stream",
     "text": [
      "Scale for 'fill' is already present. Adding another scale for 'fill', which\n",
      "will replace the existing scale.\n",
      "\n"
     ]
    },
    {
     "data": {
      "text/html": [
       "<table class=\"dataframe\">\n",
       "<caption>A tibble: 4 × 3</caption>\n",
       "<thead>\n",
       "\t<tr><th scope=col>.pred_class</th><th scope=col>fraud_bool</th><th scope=col>n</th></tr>\n",
       "\t<tr><th scope=col>&lt;chr&gt;</th><th scope=col>&lt;chr&gt;</th><th scope=col>&lt;int&gt;</th></tr>\n",
       "</thead>\n",
       "<tbody>\n",
       "\t<tr><td>0</td><td>0</td><td>3423</td></tr>\n",
       "\t<tr><td>1</td><td>0</td><td> 259</td></tr>\n",
       "\t<tr><td>0</td><td>1</td><td> 143</td></tr>\n",
       "\t<tr><td>1</td><td>1</td><td>  18</td></tr>\n",
       "</tbody>\n",
       "</table>\n"
      ],
      "text/latex": [
       "A tibble: 4 × 3\n",
       "\\begin{tabular}{lll}\n",
       " .pred\\_class & fraud\\_bool & n\\\\\n",
       " <chr> & <chr> & <int>\\\\\n",
       "\\hline\n",
       "\t 0 & 0 & 3423\\\\\n",
       "\t 1 & 0 &  259\\\\\n",
       "\t 0 & 1 &  143\\\\\n",
       "\t 1 & 1 &   18\\\\\n",
       "\\end{tabular}\n"
      ],
      "text/markdown": [
       "\n",
       "A tibble: 4 × 3\n",
       "\n",
       "| .pred_class &lt;chr&gt; | fraud_bool &lt;chr&gt; | n &lt;int&gt; |\n",
       "|---|---|---|\n",
       "| 0 | 0 | 3423 |\n",
       "| 1 | 0 |  259 |\n",
       "| 0 | 1 |  143 |\n",
       "| 1 | 1 |   18 |\n",
       "\n"
      ],
      "text/plain": [
       "  .pred_class fraud_bool n   \n",
       "1 0           0          3423\n",
       "2 1           0           259\n",
       "3 0           1           143\n",
       "4 1           1            18"
      ]
     },
     "metadata": {},
     "output_type": "display_data"
    },
    {
     "data": {
      "image/png": "[encoded data removed]",
      "text/plain": [
       "plot without title"
      ]
     },
     "metadata": {
      "image/png": {
       "height": 480,
       "width": 900
      }
     },
     "output_type": "display_data"
    }
   ],
   "source": [
    "options(repr.plot.width=15, repr.plot.height=8)\n",
    "\n",
    "fraud_confusion <- fraud_test_predictions |>\n",
    "             conf_mat(truth = fraud_bool, estimate = .pred_class) |>\n",
    "                autoplot(type = \"heatmap\") +\n",
    "                theme(text = element_text(size = 20)) +\n",
    "                ggtitle(\"Confusion Matrix Heat Map\") +\n",
    "                scale_fill_distiller(palette = \"RdPu\")\n",
    "\n",
    "fraud_confusion_tibble <- fraud_test_predictions |>\n",
    "    select(.pred_class, fraud_bool) |>\n",
    "    table() |>\n",
    "    as_tibble()\n",
    "\n",
    "fraud_confusion_tibble\n",
    "\n",
    "conf_plot <- fraud_confusion_tibble |>\n",
    "    ggplot(aes(x = fraud_bool, y = n, fill = .pred_class, position = \"fill\")) +\n",
    "        geom_bar(stat = \"identity\") +\n",
    "        labs(x = \"Truth\", y = \"Count\", fill = \"Prediction\") +\n",
    "        theme(text = element_text(size = 20)) +\n",
    "        ggtitle(\"Confusion Matrix Bar Chart\") +\n",
    "        scale_color_brewer(palette = \"RdPu\")\n",
    "\n",
    "plot_grid(fraud_confusion, conf_plot, labels = \"AUTO\", rel_widths = c(1, 2))\n"
   ]
  },
  {
   "cell_type": "markdown",
   "id": "3c308702-7b28-48e1-b4ea-e8a8b57dec59",
   "metadata": {},
   "source": [
    "**Insights from the confusion matrix:**\n",
    "   1. We can see that 259 out of 3682 non-fraudulent accounts were predicted to be fraudulent. \n",
    "   2. 93.0% of non-fraudulent accounts were correctly classified, with 7.0% wrongly classified. This 7.0% error is not too big of an issue as accounts predicted to be fraudulent can simply be placed on a watchlist and surveilled more closely.\n",
    "   3. On the other hand, we can see that 143 fraudulent accounts had been predicted to be non-fraudulent. \n",
    "   4. Only 18 out of 161 fraudulent accounts had been identified, which was 11.2% of fraudulent accounts. In other words, 88.8% of fraudulent accounts were undetected by the model. This is a significant drawback for the model as leaving fraudulent accounts undetected has severe consequences due to higher chances of  fraudulent accounts being ultimately undetected by any of the bank's system. This may in turn result in reputational and financial losses for the bank.\n",
    "\n",
    "Therefore, despite the classifier achieving better results than the majority classifier, this classifier might not be effective enough for this application."
   ]
  },
  {
   "cell_type": "markdown",
   "id": "ac1fcbee-3121-401f-9458-01d07bd62a52",
   "metadata": {},
   "source": [
    "### 10. Visualisation\n",
    "Our classifier can be visusalized with the following colored prediction map visualisation."
   ]
  },
  {
   "cell_type": "code",
   "execution_count": null,
   "id": "9412f8ab-0174-4e8e-a989-6225cb0758b3",
   "metadata": {},
   "outputs": [],
   "source": [
    "\n",
    "options(repr.plot.width=8, repr.plot.height=6)\n",
    "\n",
    "\n",
    "ema_grid <- seq(min(fraud_test$name_email_similarity), \n",
    "                max(fraud_test$name_email_similarity), \n",
    "                length.out = 100)\n",
    "crl_grid <- seq(min(fraud_test$proposed_credit_limit), \n",
    "                max(fraud_test$proposed_credit_limit), \n",
    "                length.out = 100)\n",
    "add_grid <- seq(min(fraud_test$current_address_months_count), \n",
    "                max(fraud_test$current_address_months_count), \n",
    "                length.out = 100)\n",
    "\n",
    "asgrid <- as_tibble(expand.grid(name_email_similarity = ema_grid, \n",
    "                                proposed_credit_limit = crl_grid,\n",
    "                                current_address_months_count = add_grid))\n",
    "\n",
    "\n",
    "knnPredGrid <- predict(knn_fit, asgrid)\n",
    "\n",
    "prediction_table <- bind_cols(knnPredGrid, asgrid) |> \n",
    "  rename(Class = .pred_class)\n",
    "\n",
    "\n",
    "final_plot1 <-\n",
    "  ggplot() +\n",
    "  geom_point(data = fraud_test, \n",
    "             mapping = aes(x = name_email_similarity, \n",
    "                           y = proposed_credit_limit, \n",
    "                           color = fraud_bool), \n",
    "             alpha = 0.3) +\n",
    "  geom_point(data = prediction_table, \n",
    "             mapping = aes(x = name_email_similarity, \n",
    "                           y = proposed_credit_limit, \n",
    "                           color = Class), \n",
    "             alpha = 0.02, \n",
    "             size = 5) +\n",
    "  labs(color = \"Is a Fraud\", \n",
    "       x = \"Name Email Similarity\", \n",
    "       y = \"Proposed Credit Limit\") +\n",
    "  scale_color_manual(labels = c(\"Not a Fraud\", \"Fraud\"), \n",
    "                     values = c(\"orange2\", \"steelblue2\")) +\n",
    "  theme(text = element_text(size = 20))\n",
    "\n",
    "\n",
    "final_plot2 <-\n",
    "  ggplot() +\n",
    "  geom_point(data = fraud_test, \n",
    "             mapping = aes(x = name_email_similarity, \n",
    "                           y = current_address_months_count, \n",
    "                           color = fraud_bool), \n",
    "             alpha = 0.3) +\n",
    "  geom_point(data = prediction_table, \n",
    "             mapping = aes(x = name_email_similarity, \n",
    "                           y = current_address_months_count, \n",
    "                           color = Class), \n",
    "             alpha = 0.02, \n",
    "             size = 5) +\n",
    "  labs(color = \"Is a Fraud\", \n",
    "       x = \"Name Email Similarity\", \n",
    "       y = \"Months at Current Address\") +\n",
    "  scale_color_manual(labels = c(\"Not a Fraud\", \"Fraud\"), \n",
    "                     values = c(\"orange2\", \"steelblue2\")) +\n",
    "  theme(text = element_text(size = 20))\n",
    "\n",
    "\n",
    "\n",
    "final_plot3 <-\n",
    "  ggplot() +\n",
    "  geom_point(data = fraud_test, \n",
    "             mapping = aes(x = proposed_credit_limit, \n",
    "                           y = current_address_months_count, \n",
    "                           color = fraud_bool), \n",
    "             alpha = 0.3) +\n",
    "  geom_point(data = prediction_table, \n",
    "             mapping = aes(x = proposed_credit_limit, \n",
    "                           y = current_address_months_count, \n",
    "                           color = Class), \n",
    "             alpha = 0.02, \n",
    "             size = 5) +\n",
    "  labs(color = \"Is a Fraud\", \n",
    "       x = \"Proposed Credit Limit\", \n",
    "       y = \"Months at Current Address\") +\n",
    "  scale_color_manual(labels = c(\"Not a Fraud\", \"Fraud\"), \n",
    "                     values = c(\"orange2\", \"steelblue2\")) +\n",
    "  theme(text = element_text(size = 20))\n",
    "\n",
    "final_plot1\n",
    "final_plot2\n",
    "final_plot3\n",
    "\n",
    "#plot_grid(final_plot1, final_plot2, final_plot3, labels = \"AUTO\", rel_widths = c(1, 2, 3)) \n",
    "#code to place all plots into 1 row ^\n",
    "\n"
   ]
  },
  {
   "cell_type": "markdown",
   "id": "91df2c0c-5136-48ad-8b83-45b0a208dee7",
   "metadata": {},
   "source": [
    "## Discussion \n",
    "\n",
    "\n",
    "#### Conclusions: \n",
    "Our K-nearest neighbors classifier outperformed the majority classifier with an accuracy of 90% in identifying bank account fraud. However, the model only identified 11.2% of fraudulent accounts, leaving 88.8% of them unidentified. The classifier significantly improved in identifying non-fraudulent accounts, with an accurate classification percentage of 93.0%.\n",
    "\n",
    "\n",
    "#### Expectations: \n",
    "Although the classifier showed an improvement over the majority classifier, we expected a more effective detection of fraudulent accounts. The model's weak detection rate of 11.2% for fraudulent accounts indicates that it cannot be used in practice to detect bank account fraud.\n",
    "\n",
    "#### Impact of findings: \n",
    "The findings suggest that improvements to the model are needed before the classifier can be employed in practical applications. If the model can be improved, financial institutions may be able to identify fraudulent accounts more quickly and accurately. This could help them save money and boost customer confidence in their money delegation.\n",
    "\n",
    "#### Future research questions: \n",
    "The results of this study raise several questions for future considertaion and research:\n",
    "\n",
    "a. Can other classification algorithms provide better results in detecting fraudulent accounts?\n",
    "\n",
    "b. How can K-nearest neighbors classifiers be applied to detect other types of fraudulent banking activities, such as phishing scams, debit and credit card fraud, or cheque fraud?\n",
    "\n",
    "c. Can K-nearest neighbor classifiers be integrated into existing fraud detection systems to improve their accuracy and efficiency?\n",
    "\n",
    "d. How do K-nearest neighbor classifiers compare to other classification algorithms in identifying fraud?\n",
    "\n",
    "By addressing these questions, banks and financial institutions can continue to strengthen their fraud detection capabilities and protect their customers from fraudulent activities.\n"
   ]
  },
  {
   "cell_type": "markdown",
   "id": "0e16480b",
   "metadata": {},
   "source": [
    "## References"
   ]
  },
  {
   "cell_type": "markdown",
   "id": "d5ce8bc1-6171-4183-97dd-bb23be98981b",
   "metadata": {},
   "source": [
    "Jesus, S., Pombal, J., Alves, D., & Cruz, A. F. (2022, November 25). Bank Account Fraud Dataset Suite (neurips 2022). Kaggle.              Retrieved April 13, 2023, from https://www.kaggle.com/datasets/sgpjesus/bank-account-fraud-dataset-neurips-2022 \n",
    "\n",
    "Mangala, D. and Soni, L. (2023), \"A systematic literature review on frauds in banking sector\", Journal of Financial Crime, Vol. 30 No. 1, pp. 285-301. https://doi.org/10.1108/JFC-12-2021-0263\n",
    "\n",
    "Stephen, M., and Nicholas B. (2017), \"Banking and fraud\", Computer Law & Security Review, Volume 33, Issue 2, pp. 237-241. https://doi.org/10.1016/j.clsr.2016.11.018."
   ]
  }
 ],
 "metadata": {
  "kernelspec": {
   "display_name": "R",
   "language": "R",
   "name": "ir"
  },
  "language_info": {
   "codemirror_mode": "r",
   "file_extension": ".r",
   "mimetype": "text/x-r-source",
   "name": "R",
   "pygments_lexer": "r",
   "version": "4.1.3"
  },
  "vscode": {
   "interpreter": {
    "hash": "767d51c1340bd893661ea55ea3124f6de3c7a262a8b4abca0554b478b1e2ff90"
   }
  }
 },
 "nbformat": 4,
 "nbformat_minor": 5
}
