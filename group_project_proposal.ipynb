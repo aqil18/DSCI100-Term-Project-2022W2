{
 "cells": [
  {
   "attachments": {},
   "cell_type": "markdown",
   "id": "4f504dde-b61d-4843-a31e-436aa6624944",
   "metadata": {},
   "source": [
    "# Using a K-nearest Neighbours Classifier To Detect Bank Account Opening Fraud\n",
    "### 2022W2 DSCI 100 Group Project\n",
    "\n",
    "Team Members:\n",
    "- Aqil Faizal\n",
    "- Andrei Chepakovich\n",
    "- Jiaying Ong\n",
    "- Lucy Liu"
   ]
  },
  {
   "attachments": {},
   "cell_type": "markdown",
   "id": "e5564b46",
   "metadata": {},
   "source": [
    "## Introduction\n",
    "Fraud is a major problem in Canada, with a total of $531M being lost to fraud in 2022 according to the Canadian Anti-Fraud Centre. Although overall rates of digital financial fraud in Canada have fallen in recent years, identity theft rates have been on the rise. According to Statista, an online platform for consumer data, the rate of identity fraud in Canada has consistently grown from 2008 to 2021 and sat at 61.95 per 100,000 residents in the latter year. Identity thieves commonly use stolen personal information to create new bank accounts with which they will then perform fraudulent activities such as credit card fraud, fraudulent loan applications, and money laundering. This act is known as account opening fraud, and will be the focus of this group project.\n",
    "\n",
    "In this project, we aim to use the R tidymodels framework to build a K-nearest neighbours classifier that can classify a bank account as fraudulent or non-fraudulent using data from the Bank Account Fraud suite of datasets published at NeurIPS 2022, a machine learning conference. This synthetic dataset is based on real-world bank account data. The main questions that we would like to answer in this project are: 1) given this data, can we use the K-nearest neighbours algorithm to classify a bank account as fraudulent or non-fraudulent with reasonable accuracy, and 2) which variables are good indicators of account opening fraud?\n",
    "\n",
    "### Description of the dataset\n",
    "We will use the Base.csv dataset from the aforementioned Bank Account Fraud suite, which has 32 variables and 1M observations. As the K-nearest neighbours algorithm will be very computationally costly with such a large number of observations, we will first extract the first 100,000 rows of data and then filter it further to obtain only observations with certain attributes.\n",
    "\n",
    "We also plan to use the forward selection algorithm to select the predictor variables to be used by the KNN model. Since using many variables for forward selection involves the training of many models and increases the chance that we come across a model with a high cross-validation accuracy estimate, but a low true accuracy on the test data, we will chose 8 variables that we felt were most likely to be indicators of fraudulence."
   ]
  },
  {
   "attachments": {},
   "cell_type": "markdown",
   "id": "21d2d7ee",
   "metadata": {},
   "source": [
    "## Preliminary exploratory data analysis"
   ]
  },
  {
   "attachments": {},
   "cell_type": "markdown",
   "id": "508adefc",
   "metadata": {},
   "source": [
    "The required libraries for running the code in this proposal are:\n",
    "\n",
    "- tidyverse\n",
    "- tidymodels"
   ]
  },
  {
   "cell_type": "code",
   "execution_count": 11,
   "id": "01fa98a0",
   "metadata": {
    "vscode": {
     "languageId": "r"
    }
   },
   "outputs": [
    {
     "name": "stderr",
     "output_type": "stream",
     "text": [
      "── \u001b[1mAttaching packages\u001b[22m ────────────────────────────────────── tidymodels 1.0.0 ──\n",
      "\n",
      "\u001b[32m✔\u001b[39m \u001b[34mbroom       \u001b[39m 1.0.3     \u001b[32m✔\u001b[39m \u001b[34mrsample     \u001b[39m 1.1.1\n",
      "\u001b[32m✔\u001b[39m \u001b[34mdials       \u001b[39m 1.1.0     \u001b[32m✔\u001b[39m \u001b[34mtune        \u001b[39m 1.0.1\n",
      "\u001b[32m✔\u001b[39m \u001b[34minfer       \u001b[39m 1.0.4     \u001b[32m✔\u001b[39m \u001b[34mworkflows   \u001b[39m 1.1.3\n",
      "\u001b[32m✔\u001b[39m \u001b[34mmodeldata   \u001b[39m 1.1.0     \u001b[32m✔\u001b[39m \u001b[34mworkflowsets\u001b[39m 1.0.0\n",
      "\u001b[32m✔\u001b[39m \u001b[34mparsnip     \u001b[39m 1.0.4     \u001b[32m✔\u001b[39m \u001b[34myardstick   \u001b[39m 1.1.0\n",
      "\u001b[32m✔\u001b[39m \u001b[34mrecipes     \u001b[39m 1.0.5     \n",
      "\n",
      "── \u001b[1mConflicts\u001b[22m ───────────────────────────────────────── tidymodels_conflicts() ──\n",
      "\u001b[31m✖\u001b[39m \u001b[34mscales\u001b[39m::\u001b[32mdiscard()\u001b[39m masks \u001b[34mpurrr\u001b[39m::discard()\n",
      "\u001b[31m✖\u001b[39m \u001b[34mdplyr\u001b[39m::\u001b[32mfilter()\u001b[39m   masks \u001b[34mstats\u001b[39m::filter()\n",
      "\u001b[31m✖\u001b[39m \u001b[34mrecipes\u001b[39m::\u001b[32mfixed()\u001b[39m  masks \u001b[34mstringr\u001b[39m::fixed()\n",
      "\u001b[31m✖\u001b[39m \u001b[34mdplyr\u001b[39m::\u001b[32mlag()\u001b[39m      masks \u001b[34mstats\u001b[39m::lag()\n",
      "\u001b[31m✖\u001b[39m \u001b[34myardstick\u001b[39m::\u001b[32mspec()\u001b[39m masks \u001b[34mreadr\u001b[39m::spec()\n",
      "\u001b[31m✖\u001b[39m \u001b[34mrecipes\u001b[39m::\u001b[32mstep()\u001b[39m   masks \u001b[34mstats\u001b[39m::step()\n",
      "\u001b[34m•\u001b[39m Dig deeper into tidy modeling with R at \u001b[32mhttps://www.tmwr.org\u001b[39m\n",
      "\n"
     ]
    }
   ],
   "source": [
    "### Setup\n",
    "library(tidyverse)\n",
    "library(repr)\n",
    "library(tidymodels)\n",
    "options(repr.matrix.max.rows = 6)"
   ]
  },
  {
   "attachments": {},
   "cell_type": "markdown",
   "id": "70060eaf",
   "metadata": {},
   "source": [
    "Since the dataset has 1M rows, we first downloaded Base.csv locally and extracted the first 100,000 rows, which we then wrote to a .csv file and hosted on Google Sheets. We then read the data in again from Google Sheets:"
   ]
  },
  {
   "cell_type": "code",
   "execution_count": 16,
   "id": "0d1c425c",
   "metadata": {
    "vscode": {
     "languageId": "r"
    }
   },
   "outputs": [
    {
     "name": "stderr",
     "output_type": "stream",
     "text": [
      "\u001b[1mRows: \u001b[22m\u001b[34m100000\u001b[39m \u001b[1mColumns: \u001b[22m\u001b[34m32\u001b[39m\n",
      "\u001b[36m──\u001b[39m \u001b[1mColumn specification\u001b[22m \u001b[36m────────────────────────────────────────────────────────\u001b[39m\n",
      "\u001b[1mDelimiter:\u001b[22m \",\"\n",
      "\u001b[31mchr\u001b[39m  (5): payment_type, employment_status, housing_status, source, device_os\n",
      "\u001b[32mdbl\u001b[39m (27): fraud_bool, income, name_email_similarity, prev_address_months_cou...\n",
      "\n",
      "\u001b[36mℹ\u001b[39m Use `spec()` to retrieve the full column specification for this data.\n",
      "\u001b[36mℹ\u001b[39m Specify the column types or set `show_col_types = FALSE` to quiet this message.\n"
     ]
    },
    {
     "data": {
      "text/html": [
       "<table class=\"dataframe\">\n",
       "<caption>A tibble: 100000 × 33</caption>\n",
       "<thead>\n",
       "\t<tr><th scope=col>fraud_bool</th><th scope=col>income</th><th scope=col>name_email_similarity</th><th scope=col>prev_address_months_count</th><th scope=col>current_address_months_count</th><th scope=col>customer_age</th><th scope=col>days_since_request</th><th scope=col>intended_balcon_amount</th><th scope=col>payment_type</th><th scope=col>zip_count_4w</th><th scope=col>⋯</th><th scope=col>proposed_credit_limit</th><th scope=col>foreign_request</th><th scope=col>source</th><th scope=col>session_length_in_minutes</th><th scope=col>device_os</th><th scope=col>keep_alive_session</th><th scope=col>device_distinct_emails_8w</th><th scope=col>device_fraud_count</th><th scope=col>month</th><th scope=col>fraud_data</th></tr>\n",
       "\t<tr><th scope=col>&lt;dbl&gt;</th><th scope=col>&lt;dbl&gt;</th><th scope=col>&lt;dbl&gt;</th><th scope=col>&lt;dbl&gt;</th><th scope=col>&lt;dbl&gt;</th><th scope=col>&lt;dbl&gt;</th><th scope=col>&lt;dbl&gt;</th><th scope=col>&lt;dbl&gt;</th><th scope=col>&lt;chr&gt;</th><th scope=col>&lt;dbl&gt;</th><th scope=col>⋯</th><th scope=col>&lt;dbl&gt;</th><th scope=col>&lt;dbl&gt;</th><th scope=col>&lt;chr&gt;</th><th scope=col>&lt;dbl&gt;</th><th scope=col>&lt;chr&gt;</th><th scope=col>&lt;dbl&gt;</th><th scope=col>&lt;dbl&gt;</th><th scope=col>&lt;dbl&gt;</th><th scope=col>&lt;dbl&gt;</th><th scope=col>&lt;fct&gt;</th></tr>\n",
       "</thead>\n",
       "<tbody>\n",
       "\t<tr><td>1</td><td>0.9</td><td>0.16682773</td><td>-1</td><td> 88</td><td>50</td><td>0.020925173</td><td>-1.3313450</td><td>AA</td><td>769</td><td>⋯</td><td> 500</td><td>0</td><td>INTERNET</td><td> 3.888115</td><td>windows</td><td>0</td><td>1</td><td>0</td><td>7</td><td>1</td></tr>\n",
       "\t<tr><td>1</td><td>0.9</td><td>0.29628601</td><td>-1</td><td>144</td><td>50</td><td>0.005417538</td><td>-0.8162238</td><td>AB</td><td>366</td><td>⋯</td><td>1500</td><td>0</td><td>INTERNET</td><td>31.798819</td><td>windows</td><td>0</td><td>1</td><td>0</td><td>7</td><td>1</td></tr>\n",
       "\t<tr><td>1</td><td>0.9</td><td>0.04498549</td><td>-1</td><td>132</td><td>40</td><td>3.108548793</td><td>-0.7557277</td><td>AC</td><td>870</td><td>⋯</td><td> 200</td><td>0</td><td>INTERNET</td><td> 4.728705</td><td>other  </td><td>0</td><td>1</td><td>0</td><td>7</td><td>1</td></tr>\n",
       "\t<tr><td>⋮</td><td>⋮</td><td>⋮</td><td>⋮</td><td>⋮</td><td>⋮</td><td>⋮</td><td>⋮</td><td>⋮</td><td>⋮</td><td>⋱</td><td>⋮</td><td>⋮</td><td>⋮</td><td>⋮</td><td>⋮</td><td>⋮</td><td>⋮</td><td>⋮</td><td>⋮</td><td>⋮</td></tr>\n",
       "\t<tr><td>0</td><td>0.6</td><td>0.8435506</td><td>-1</td><td>18</td><td>40</td><td>0.01090603</td><td>-0.8543749</td><td>AB</td><td>602</td><td>⋯</td><td>1500</td><td>0</td><td>INTERNET</td><td>5.939641</td><td>other  </td><td>1</td><td>1</td><td>0</td><td>3</td><td>0</td></tr>\n",
       "\t<tr><td>0</td><td>0.4</td><td>0.6882371</td><td>-1</td><td>50</td><td>20</td><td>0.02786849</td><td>50.3059704</td><td>AA</td><td>691</td><td>⋯</td><td> 500</td><td>0</td><td>INTERNET</td><td>3.273092</td><td>linux  </td><td>1</td><td>1</td><td>0</td><td>3</td><td>0</td></tr>\n",
       "\t<tr><td>0</td><td>0.7</td><td>0.7537215</td><td>-1</td><td>50</td><td>30</td><td>0.02482313</td><td>98.5380625</td><td>AA</td><td>878</td><td>⋯</td><td> 500</td><td>0</td><td>INTERNET</td><td>6.452148</td><td>windows</td><td>0</td><td>1</td><td>0</td><td>3</td><td>0</td></tr>\n",
       "</tbody>\n",
       "</table>\n"
      ],
      "text/latex": [
       "A tibble: 100000 × 33\n",
       "\\begin{tabular}{lllllllllllllllllllll}\n",
       " fraud\\_bool & income & name\\_email\\_similarity & prev\\_address\\_months\\_count & current\\_address\\_months\\_count & customer\\_age & days\\_since\\_request & intended\\_balcon\\_amount & payment\\_type & zip\\_count\\_4w & ⋯ & proposed\\_credit\\_limit & foreign\\_request & source & session\\_length\\_in\\_minutes & device\\_os & keep\\_alive\\_session & device\\_distinct\\_emails\\_8w & device\\_fraud\\_count & month & fraud\\_data\\\\\n",
       " <dbl> & <dbl> & <dbl> & <dbl> & <dbl> & <dbl> & <dbl> & <dbl> & <chr> & <dbl> & ⋯ & <dbl> & <dbl> & <chr> & <dbl> & <chr> & <dbl> & <dbl> & <dbl> & <dbl> & <fct>\\\\\n",
       "\\hline\n",
       "\t 1 & 0.9 & 0.16682773 & -1 &  88 & 50 & 0.020925173 & -1.3313450 & AA & 769 & ⋯ &  500 & 0 & INTERNET &  3.888115 & windows & 0 & 1 & 0 & 7 & 1\\\\\n",
       "\t 1 & 0.9 & 0.29628601 & -1 & 144 & 50 & 0.005417538 & -0.8162238 & AB & 366 & ⋯ & 1500 & 0 & INTERNET & 31.798819 & windows & 0 & 1 & 0 & 7 & 1\\\\\n",
       "\t 1 & 0.9 & 0.04498549 & -1 & 132 & 40 & 3.108548793 & -0.7557277 & AC & 870 & ⋯ &  200 & 0 & INTERNET &  4.728705 & other   & 0 & 1 & 0 & 7 & 1\\\\\n",
       "\t ⋮ & ⋮ & ⋮ & ⋮ & ⋮ & ⋮ & ⋮ & ⋮ & ⋮ & ⋮ & ⋱ & ⋮ & ⋮ & ⋮ & ⋮ & ⋮ & ⋮ & ⋮ & ⋮ & ⋮ & ⋮\\\\\n",
       "\t 0 & 0.6 & 0.8435506 & -1 & 18 & 40 & 0.01090603 & -0.8543749 & AB & 602 & ⋯ & 1500 & 0 & INTERNET & 5.939641 & other   & 1 & 1 & 0 & 3 & 0\\\\\n",
       "\t 0 & 0.4 & 0.6882371 & -1 & 50 & 20 & 0.02786849 & 50.3059704 & AA & 691 & ⋯ &  500 & 0 & INTERNET & 3.273092 & linux   & 1 & 1 & 0 & 3 & 0\\\\\n",
       "\t 0 & 0.7 & 0.7537215 & -1 & 50 & 30 & 0.02482313 & 98.5380625 & AA & 878 & ⋯ &  500 & 0 & INTERNET & 6.452148 & windows & 0 & 1 & 0 & 3 & 0\\\\\n",
       "\\end{tabular}\n"
      ],
      "text/markdown": [
       "\n",
       "A tibble: 100000 × 33\n",
       "\n",
       "| fraud_bool &lt;dbl&gt; | income &lt;dbl&gt; | name_email_similarity &lt;dbl&gt; | prev_address_months_count &lt;dbl&gt; | current_address_months_count &lt;dbl&gt; | customer_age &lt;dbl&gt; | days_since_request &lt;dbl&gt; | intended_balcon_amount &lt;dbl&gt; | payment_type &lt;chr&gt; | zip_count_4w &lt;dbl&gt; | ⋯ ⋯ | proposed_credit_limit &lt;dbl&gt; | foreign_request &lt;dbl&gt; | source &lt;chr&gt; | session_length_in_minutes &lt;dbl&gt; | device_os &lt;chr&gt; | keep_alive_session &lt;dbl&gt; | device_distinct_emails_8w &lt;dbl&gt; | device_fraud_count &lt;dbl&gt; | month &lt;dbl&gt; | fraud_data &lt;fct&gt; |\n",
       "|---|---|---|---|---|---|---|---|---|---|---|---|---|---|---|---|---|---|---|---|---|\n",
       "| 1 | 0.9 | 0.16682773 | -1 |  88 | 50 | 0.020925173 | -1.3313450 | AA | 769 | ⋯ |  500 | 0 | INTERNET |  3.888115 | windows | 0 | 1 | 0 | 7 | 1 |\n",
       "| 1 | 0.9 | 0.29628601 | -1 | 144 | 50 | 0.005417538 | -0.8162238 | AB | 366 | ⋯ | 1500 | 0 | INTERNET | 31.798819 | windows | 0 | 1 | 0 | 7 | 1 |\n",
       "| 1 | 0.9 | 0.04498549 | -1 | 132 | 40 | 3.108548793 | -0.7557277 | AC | 870 | ⋯ |  200 | 0 | INTERNET |  4.728705 | other   | 0 | 1 | 0 | 7 | 1 |\n",
       "| ⋮ | ⋮ | ⋮ | ⋮ | ⋮ | ⋮ | ⋮ | ⋮ | ⋮ | ⋮ | ⋱ | ⋮ | ⋮ | ⋮ | ⋮ | ⋮ | ⋮ | ⋮ | ⋮ | ⋮ | ⋮ |\n",
       "| 0 | 0.6 | 0.8435506 | -1 | 18 | 40 | 0.01090603 | -0.8543749 | AB | 602 | ⋯ | 1500 | 0 | INTERNET | 5.939641 | other   | 1 | 1 | 0 | 3 | 0 |\n",
       "| 0 | 0.4 | 0.6882371 | -1 | 50 | 20 | 0.02786849 | 50.3059704 | AA | 691 | ⋯ |  500 | 0 | INTERNET | 3.273092 | linux   | 1 | 1 | 0 | 3 | 0 |\n",
       "| 0 | 0.7 | 0.7537215 | -1 | 50 | 30 | 0.02482313 | 98.5380625 | AA | 878 | ⋯ |  500 | 0 | INTERNET | 6.452148 | windows | 0 | 1 | 0 | 3 | 0 |\n",
       "\n"
      ],
      "text/plain": [
       "       fraud_bool income name_email_similarity prev_address_months_count\n",
       "1      1          0.9    0.16682773            -1                       \n",
       "2      1          0.9    0.29628601            -1                       \n",
       "3      1          0.9    0.04498549            -1                       \n",
       "⋮      ⋮          ⋮      ⋮                     ⋮                        \n",
       "99998  0          0.6    0.8435506             -1                       \n",
       "99999  0          0.4    0.6882371             -1                       \n",
       "100000 0          0.7    0.7537215             -1                       \n",
       "       current_address_months_count customer_age days_since_request\n",
       "1       88                          50           0.020925173       \n",
       "2      144                          50           0.005417538       \n",
       "3      132                          40           3.108548793       \n",
       "⋮      ⋮                            ⋮            ⋮                 \n",
       "99998  18                           40           0.01090603        \n",
       "99999  50                           20           0.02786849        \n",
       "100000 50                           30           0.02482313        \n",
       "       intended_balcon_amount payment_type zip_count_4w ⋯ proposed_credit_limit\n",
       "1      -1.3313450             AA           769          ⋯  500                 \n",
       "2      -0.8162238             AB           366          ⋯ 1500                 \n",
       "3      -0.7557277             AC           870          ⋯  200                 \n",
       "⋮      ⋮                      ⋮            ⋮            ⋱ ⋮                    \n",
       "99998  -0.8543749             AB           602          ⋯ 1500                 \n",
       "99999  50.3059704             AA           691          ⋯  500                 \n",
       "100000 98.5380625             AA           878          ⋯  500                 \n",
       "       foreign_request source   session_length_in_minutes device_os\n",
       "1      0               INTERNET  3.888115                 windows  \n",
       "2      0               INTERNET 31.798819                 windows  \n",
       "3      0               INTERNET  4.728705                 other    \n",
       "⋮      ⋮               ⋮        ⋮                         ⋮        \n",
       "99998  0               INTERNET 5.939641                  other    \n",
       "99999  0               INTERNET 3.273092                  linux    \n",
       "100000 0               INTERNET 6.452148                  windows  \n",
       "       keep_alive_session device_distinct_emails_8w device_fraud_count month\n",
       "1      0                  1                         0                  7    \n",
       "2      0                  1                         0                  7    \n",
       "3      0                  1                         0                  7    \n",
       "⋮      ⋮                  ⋮                         ⋮                  ⋮    \n",
       "99998  1                  1                         0                  3    \n",
       "99999  1                  1                         0                  3    \n",
       "100000 0                  1                         0                  3    \n",
       "       fraud_data\n",
       "1      1         \n",
       "2      1         \n",
       "3      1         \n",
       "⋮      ⋮         \n",
       "99998  0         \n",
       "99999  0         \n",
       "100000 0         "
      ]
     },
     "metadata": {},
     "output_type": "display_data"
    }
   ],
   "source": [
    "fraud_data <- read_csv(\"https://docs.google.com/spreadsheets/d/e/2PACX-1vRL6hq0R8gYhL5VhHlCOGGSKTea3N54QsEC8zcr5pHwuY2Ly5Zc6G83araSMkzwQF7suK_o6tr-4MEP/pub?output=csv\")\n",
    "fraud_data <- fraud_data |>\n",
    "mutate(fraud_data = as_factor(fraud_bool))\n",
    "\n",
    "fraud_data"
   ]
  },
  {
   "attachments": {},
   "cell_type": "markdown",
   "id": "cb5b7ce7",
   "metadata": {},
   "source": [
    "We then narrowed the dataset down to the 6 variables which we felt were most likely to be indicators of fraudulence, as well as the label to be predicted, which was whether the bank account was fraudulent: \n",
    "\n",
    "- Credit risk score\n",
    "- Income\n",
    "- Months lived at current address\n",
    "- Name-email similarity\n",
    "- Session length in minutes\n",
    "- Proposed credit limit\n",
    "\n",
    "In addition, we also filtered for observations from the month of July, with the employment status of 'CA', and the housing status of 'BA'. Since the dataset is synthetic, the employment and housing statuses have arbitrary meaning.\n",
    "\n"
   ]
  },
  {
   "cell_type": "code",
   "execution_count": 24,
   "id": "cd385be8",
   "metadata": {
    "vscode": {
     "languageId": "r"
    }
   },
   "outputs": [
    {
     "data": {
      "text/html": [
       "<table class=\"dataframe\">\n",
       "<caption>A tibble: 15369 × 7</caption>\n",
       "<thead>\n",
       "\t<tr><th scope=col>fraud_bool</th><th scope=col>credit_risk_score</th><th scope=col>income</th><th scope=col>current_address_months_count</th><th scope=col>name_email_similarity</th><th scope=col>session_length_in_minutes</th><th scope=col>proposed_credit_limit</th></tr>\n",
       "\t<tr><th scope=col>&lt;dbl&gt;</th><th scope=col>&lt;dbl&gt;</th><th scope=col>&lt;dbl&gt;</th><th scope=col>&lt;dbl&gt;</th><th scope=col>&lt;dbl&gt;</th><th scope=col>&lt;dbl&gt;</th><th scope=col>&lt;dbl&gt;</th></tr>\n",
       "</thead>\n",
       "<tbody>\n",
       "\t<tr><td>1</td><td>185</td><td>0.9</td><td> 88</td><td>0.1668277</td><td> 3.888115</td><td> 500</td></tr>\n",
       "\t<tr><td>1</td><td>259</td><td>0.9</td><td>144</td><td>0.2962860</td><td>31.798819</td><td>1500</td></tr>\n",
       "\t<tr><td>1</td><td>110</td><td>0.9</td><td> 22</td><td>0.1595112</td><td> 2.047904</td><td> 200</td></tr>\n",
       "\t<tr><td>⋮</td><td>⋮</td><td>⋮</td><td>⋮</td><td>⋮</td><td>⋮</td><td>⋮</td></tr>\n",
       "\t<tr><td>0</td><td>179</td><td>0.9</td><td>134</td><td>0.6891395</td><td>2.310369</td><td> 500</td></tr>\n",
       "\t<tr><td>0</td><td>234</td><td>0.9</td><td>  3</td><td>0.5094120</td><td>2.943703</td><td>1000</td></tr>\n",
       "\t<tr><td>0</td><td>244</td><td>0.8</td><td>131</td><td>0.8623505</td><td>4.555719</td><td>1500</td></tr>\n",
       "</tbody>\n",
       "</table>\n"
      ],
      "text/latex": [
       "A tibble: 15369 × 7\n",
       "\\begin{tabular}{lllllll}\n",
       " fraud\\_bool & credit\\_risk\\_score & income & current\\_address\\_months\\_count & name\\_email\\_similarity & session\\_length\\_in\\_minutes & proposed\\_credit\\_limit\\\\\n",
       " <dbl> & <dbl> & <dbl> & <dbl> & <dbl> & <dbl> & <dbl>\\\\\n",
       "\\hline\n",
       "\t 1 & 185 & 0.9 &  88 & 0.1668277 &  3.888115 &  500\\\\\n",
       "\t 1 & 259 & 0.9 & 144 & 0.2962860 & 31.798819 & 1500\\\\\n",
       "\t 1 & 110 & 0.9 &  22 & 0.1595112 &  2.047904 &  200\\\\\n",
       "\t ⋮ & ⋮ & ⋮ & ⋮ & ⋮ & ⋮ & ⋮\\\\\n",
       "\t 0 & 179 & 0.9 & 134 & 0.6891395 & 2.310369 &  500\\\\\n",
       "\t 0 & 234 & 0.9 &   3 & 0.5094120 & 2.943703 & 1000\\\\\n",
       "\t 0 & 244 & 0.8 & 131 & 0.8623505 & 4.555719 & 1500\\\\\n",
       "\\end{tabular}\n"
      ],
      "text/markdown": [
       "\n",
       "A tibble: 15369 × 7\n",
       "\n",
       "| fraud_bool &lt;dbl&gt; | credit_risk_score &lt;dbl&gt; | income &lt;dbl&gt; | current_address_months_count &lt;dbl&gt; | name_email_similarity &lt;dbl&gt; | session_length_in_minutes &lt;dbl&gt; | proposed_credit_limit &lt;dbl&gt; |\n",
       "|---|---|---|---|---|---|---|\n",
       "| 1 | 185 | 0.9 |  88 | 0.1668277 |  3.888115 |  500 |\n",
       "| 1 | 259 | 0.9 | 144 | 0.2962860 | 31.798819 | 1500 |\n",
       "| 1 | 110 | 0.9 |  22 | 0.1595112 |  2.047904 |  200 |\n",
       "| ⋮ | ⋮ | ⋮ | ⋮ | ⋮ | ⋮ | ⋮ |\n",
       "| 0 | 179 | 0.9 | 134 | 0.6891395 | 2.310369 |  500 |\n",
       "| 0 | 234 | 0.9 |   3 | 0.5094120 | 2.943703 | 1000 |\n",
       "| 0 | 244 | 0.8 | 131 | 0.8623505 | 4.555719 | 1500 |\n",
       "\n"
      ],
      "text/plain": [
       "      fraud_bool credit_risk_score income current_address_months_count\n",
       "1     1          185               0.9     88                         \n",
       "2     1          259               0.9    144                         \n",
       "3     1          110               0.9     22                         \n",
       "⋮     ⋮          ⋮                 ⋮      ⋮                           \n",
       "15367 0          179               0.9    134                         \n",
       "15368 0          234               0.9      3                         \n",
       "15369 0          244               0.8    131                         \n",
       "      name_email_similarity session_length_in_minutes proposed_credit_limit\n",
       "1     0.1668277              3.888115                  500                 \n",
       "2     0.2962860             31.798819                 1500                 \n",
       "3     0.1595112              2.047904                  200                 \n",
       "⋮     ⋮                     ⋮                         ⋮                    \n",
       "15367 0.6891395             2.310369                   500                 \n",
       "15368 0.5094120             2.943703                  1000                 \n",
       "15369 0.8623505             4.555719                  1500                 "
      ]
     },
     "metadata": {},
     "output_type": "display_data"
    },
    {
     "data": {
      "text/html": [
       "15369"
      ],
      "text/latex": [
       "15369"
      ],
      "text/markdown": [
       "15369"
      ],
      "text/plain": [
       "[1] 15369"
      ]
     },
     "metadata": {},
     "output_type": "display_data"
    }
   ],
   "source": [
    "fraud_narrowed <- fraud_data |>\n",
    "    filter(month == 7, employment_status == \"CA\", housing_status == \"BA\") |>\n",
    "    select(fraud_bool, credit_risk_score, income, current_address_months_count, name_email_similarity, session_length_in_minutes, proposed_credit_limit)    \n",
    "fraud_narrowed\n",
    "\n",
    "number_of_rows <- nrow(fraud_narrowed)\n",
    "number_of_rows"
   ]
  },
  {
   "attachments": {},
   "cell_type": "markdown",
   "id": "77ba3307",
   "metadata": {},
   "source": [
    "We were left with 15369 rows left from our original dataset. We then performed more preliminary exploration:"
   ]
  },
  {
   "cell_type": "code",
   "execution_count": null,
   "id": "3e2a4412",
   "metadata": {
    "vscode": {
     "languageId": "r"
    }
   },
   "outputs": [],
   "source": []
  },
  {
   "attachments": {},
   "cell_type": "markdown",
   "id": "a689c833",
   "metadata": {},
   "source": [
    "## Methods\n"
   ]
  },
  {
   "attachments": {},
   "cell_type": "markdown",
   "id": "52917c81",
   "metadata": {},
   "source": [
    "## Expected outcomes and significance"
   ]
  },
  {
   "cell_type": "markdown",
   "id": "838602d7",
   "metadata": {},
   "source": []
  }
 ],
 "metadata": {
  "kernelspec": {
   "display_name": "R",
   "language": "R",
   "name": "ir"
  },
  "language_info": {
   "codemirror_mode": "r",
   "file_extension": ".r",
   "mimetype": "text/x-r-source",
   "name": "R",
   "pygments_lexer": "r",
   "version": "4.2.2"
  },
  "vscode": {
   "interpreter": {
    "hash": "767d51c1340bd893661ea55ea3124f6de3c7a262a8b4abca0554b478b1e2ff90"
   }
  }
 },
 "nbformat": 4,
 "nbformat_minor": 5
}
